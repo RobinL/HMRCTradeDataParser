{
 "cells": [
  {
   "cell_type": "code",
   "execution_count": 4,
   "metadata": {
    "collapsed": true
   },
   "outputs": [],
   "source": [
    "import pandas as pd\n",
    "import codecs"
   ]
  },
  {
   "cell_type": "code",
   "execution_count": 5,
   "metadata": {
    "collapsed": false
   },
   "outputs": [],
   "source": [
    "with codecs.open(\"SIAI111504\", encoding=\"windows-1252\") as fh:\n",
    "    lines = fh.readlines()\n",
    "    header_record = lines[0]\n",
    "    middle_records =  lines[1:-1]\n",
    "    tail_record = lines[-1]"
   ]
  },
  {
   "cell_type": "code",
   "execution_count": null,
   "metadata": {
    "collapsed": true
   },
   "outputs": [],
   "source": []
  },
  {
   "cell_type": "code",
   "execution_count": null,
   "metadata": {
    "collapsed": true
   },
   "outputs": [],
   "source": []
  },
  {
   "cell_type": "code",
   "execution_count": 300,
   "metadata": {
    "collapsed": true
   },
   "outputs": [],
   "source": []
  },
  {
   "cell_type": "code",
   "execution_count": 301,
   "metadata": {
    "collapsed": true
   },
   "outputs": [],
   "source": [
    "#Text file is split - first line is a header records (not column names)\n",
    "#Middle records are the data \n",
    "#Final record is also different\n",
    "\n",
    "with open(\"SMKI191504\") as fh:\n",
    "    lines = fh.readlines()\n",
    "    header_record = lines[0]\n",
    "    middle_records =  lines[1:-1]\n",
    "    tail_record = lines[-1]"
   ]
  },
  {
   "cell_type": "code",
   "execution_count": 302,
   "metadata": {
    "collapsed": false
   },
   "outputs": [],
   "source": [
    "def get_fields_df(df, column_name = \"Item Name\"):\n",
    "    df = df[~df[column_name].str.contains(\"DELIMITER\")]\n",
    "    df = df[[\"From\",\"To\",column_name]]\n",
    "    return df"
   ]
  },
  {
   "cell_type": "code",
   "execution_count": 305,
   "metadata": {
    "collapsed": false
   },
   "outputs": [],
   "source": [
    "#The specification of the header record from https://www.uktradeinfo.com/Statistics/Documents/Tech_Spec_SMKE19.DOC\n",
    "header_record_specs = pd.read_csv(\"pycharm/specs/import_header_record_specs.csv\")\n",
    "header_record_specs = get_fields_df(header_record_specs) "
   ]
  },
  {
   "cell_type": "code",
   "execution_count": 306,
   "metadata": {
    "collapsed": false
   },
   "outputs": [],
   "source": [
    "header_record\n",
    "header_record_dict = {}\n",
    "for row in header_record_specs.iterrows():\n",
    "    r = row[1]\n",
    "    key = r[\"Item Name\"]\n",
    "    value = header_record[r[\"From\"]-1:r[\"To\"]].strip()\n",
    "    header_record_dict[key] = value"
   ]
  },
  {
   "cell_type": "code",
   "execution_count": 307,
   "metadata": {
    "collapsed": false
   },
   "outputs": [],
   "source": [
    "header_record_df = pd.DataFrame([header_record_dict])"
   ]
  },
  {
   "cell_type": "code",
   "execution_count": 310,
   "metadata": {
    "collapsed": false
   },
   "outputs": [
    {
     "data": {
      "text/html": [
       "<div style=\"max-height:1000px;max-width:1500px;overflow:auto;\">\n",
       "<table border=\"1\" class=\"dataframe\">\n",
       "  <thead>\n",
       "    <tr style=\"text-align: right;\">\n",
       "      <th></th>\n",
       "      <th>From</th>\n",
       "      <th>To</th>\n",
       "      <th>Item Name</th>\n",
       "      <th>col_name</th>\n",
       "      <th>length</th>\n",
       "    </tr>\n",
       "  </thead>\n",
       "  <tbody>\n",
       "    <tr>\n",
       "      <th>0 </th>\n",
       "      <td>  1</td>\n",
       "      <td>  9</td>\n",
       "      <td>     MAF-COMCODE</td>\n",
       "      <td>     maf-comcode</td>\n",
       "      <td>  9</td>\n",
       "    </tr>\n",
       "    <tr>\n",
       "      <th>2 </th>\n",
       "      <td> 11</td>\n",
       "      <td> 15</td>\n",
       "      <td>        MAF-SITC</td>\n",
       "      <td>        maf-sitc</td>\n",
       "      <td>  5</td>\n",
       "    </tr>\n",
       "    <tr>\n",
       "      <th>4 </th>\n",
       "      <td> 17</td>\n",
       "      <td> 19</td>\n",
       "      <td> MAF-RECORD-TYPE</td>\n",
       "      <td> maf-record-type</td>\n",
       "      <td>  3</td>\n",
       "    </tr>\n",
       "    <tr>\n",
       "      <th>6 </th>\n",
       "      <td> 21</td>\n",
       "      <td> 42</td>\n",
       "      <td>   MAF-FILE-NAME</td>\n",
       "      <td>   maf-file-name</td>\n",
       "      <td> 22</td>\n",
       "    </tr>\n",
       "    <tr>\n",
       "      <th>8 </th>\n",
       "      <td> 44</td>\n",
       "      <td> 52</td>\n",
       "      <td> MAF-MONTH-ALPHA</td>\n",
       "      <td> maf-month-alpha</td>\n",
       "      <td>  9</td>\n",
       "    </tr>\n",
       "    <tr>\n",
       "      <th>10</th>\n",
       "      <td> 54</td>\n",
       "      <td> 57</td>\n",
       "      <td>        MAF-YEAR</td>\n",
       "      <td>        maf-year</td>\n",
       "      <td>  4</td>\n",
       "    </tr>\n",
       "    <tr>\n",
       "      <th>12</th>\n",
       "      <td> 59</td>\n",
       "      <td> 76</td>\n",
       "      <td>       MAF-SUITE</td>\n",
       "      <td>       maf-suite</td>\n",
       "      <td> 18</td>\n",
       "    </tr>\n",
       "  </tbody>\n",
       "</table>\n",
       "</div>"
      ],
      "text/plain": [
       "    From  To        Item Name         col_name  length\n",
       "0      1   9      MAF-COMCODE      maf-comcode       9\n",
       "2     11  15         MAF-SITC         maf-sitc       5\n",
       "4     17  19  MAF-RECORD-TYPE  maf-record-type       3\n",
       "6     21  42    MAF-FILE-NAME    maf-file-name      22\n",
       "8     44  52  MAF-MONTH-ALPHA  maf-month-alpha       9\n",
       "10    54  57         MAF-YEAR         maf-year       4\n",
       "12    59  76        MAF-SUITE        maf-suite      18"
      ]
     },
     "execution_count": 310,
     "metadata": {},
     "output_type": "execute_result"
    }
   ],
   "source": [
    "header_record_specs\n",
    "header_record_specs[\"col_name\"] = header_record_specs[\"Item Name\"].str.lower()\n",
    "header_record_specs[\"length\"] = header_record_specs[\"To\"] - header_record_specs[\"From\"] + 1\n",
    "header_record_specs[[\"col_name\",\"length\"]].to_clipboard()\n",
    "header_record_specs"
   ]
  },
  {
   "cell_type": "code",
   "execution_count": 127,
   "metadata": {
    "collapsed": false
   },
   "outputs": [],
   "source": [
    "#Using the specification of the tail record from https://www.uktradeinfo.com/Statistics/Documents/Tech_Spec_SMKE19.DOC\n",
    "tail_record_specs = pd.read_csv(\"import_tail_record_specs.csv\")\n",
    "tail_record_specs = get_fields_df(tail_record_specs) "
   ]
  },
  {
   "cell_type": "code",
   "execution_count": 128,
   "metadata": {
    "collapsed": true
   },
   "outputs": [],
   "source": [
    "tail_record\n",
    "tail_record_dict = {}\n",
    "for row in tail_record_specs.iterrows():\n",
    "    r = row[1]\n",
    "    key = r[\"Item Name\"]\n",
    "    value = tail_record[r[\"From\"]-1:r[\"To\"]].strip()\n",
    "    tail_record_dict[key] = value"
   ]
  },
  {
   "cell_type": "code",
   "execution_count": 130,
   "metadata": {
    "collapsed": false
   },
   "outputs": [
    {
     "data": {
      "text/html": [
       "<div style=\"max-height:1000px;max-width:1500px;overflow:auto;\">\n",
       "<table border=\"1\" class=\"dataframe\">\n",
       "  <thead>\n",
       "    <tr style=\"text-align: right;\">\n",
       "      <th></th>\n",
       "      <th>DUMMY-COMCODE</th>\n",
       "      <th>MAF-AMENDMENT-VALUE-TOTAL</th>\n",
       "      <th>MAF-MONTHS-VALUE-TOTAL</th>\n",
       "      <th>MAF-RECORD-0-COUNT</th>\n",
       "      <th>MAF-RECORD-1-COUNT</th>\n",
       "      <th>MAF-RECORD-2-COUNT</th>\n",
       "      <th>MAF-RECORD-3-COUNT</th>\n",
       "    </tr>\n",
       "  </thead>\n",
       "  <tbody>\n",
       "    <tr>\n",
       "      <th>0</th>\n",
       "      <td> 999999999</td>\n",
       "      <td> +00000000355503347</td>\n",
       "      <td> +00000017197566212</td>\n",
       "      <td> 0000000204081</td>\n",
       "      <td> 0000000000000</td>\n",
       "      <td> 0000000000080</td>\n",
       "      <td> 0000000000582</td>\n",
       "    </tr>\n",
       "  </tbody>\n",
       "</table>\n",
       "</div>"
      ],
      "text/plain": [
       "  DUMMY-COMCODE MAF-AMENDMENT-VALUE-TOTAL MAF-MONTHS-VALUE-TOTAL  \\\n",
       "0     999999999        +00000000355503347     +00000017197566212   \n",
       "\n",
       "  MAF-RECORD-0-COUNT MAF-RECORD-1-COUNT MAF-RECORD-2-COUNT MAF-RECORD-3-COUNT  \n",
       "0      0000000204081      0000000000000      0000000000080      0000000000582  "
      ]
     },
     "execution_count": 130,
     "metadata": {},
     "output_type": "execute_result"
    }
   ],
   "source": [
    "tail_record_df = pd.DataFrame([tail_record_dict])\n",
    "tail_record_df"
   ]
  },
  {
   "cell_type": "code",
   "execution_count": 75,
   "metadata": {
    "collapsed": false
   },
   "outputs": [],
   "source": [
    "middle_record_specs = pd.read_csv(\"import_middle_record_specs.csv\")\n",
    "middle_record_specs = get_fields_df(middle_record_specs)"
   ]
  },
  {
   "cell_type": "code",
   "execution_count": 140,
   "metadata": {
    "collapsed": false
   },
   "outputs": [
    {
     "data": {
      "text/plain": [
       "[{'From': 1L,\n",
       "  'Item Name': 'MAF-COMCODE',\n",
       "  'To': 9L,\n",
       "  'col_name': 'maf-comcode',\n",
       "  'length': 9L},\n",
       " {'From': 11L,\n",
       "  'Item Name': 'MAF-SITC',\n",
       "  'To': 15L,\n",
       "  'col_name': 'maf-sitc',\n",
       "  'length': 5L},\n",
       " {'From': 17L,\n",
       "  'Item Name': 'MAF-RECORD-TYPE',\n",
       "  'To': 19L,\n",
       "  'col_name': 'maf-record-type',\n",
       "  'length': 3L},\n",
       " {'From': 20L,\n",
       "  'Item Name': 'MAF-ITEM-FIELDS',\n",
       "  'To': 143L,\n",
       "  'col_name': 'maf-item-fields',\n",
       "  'length': 124L},\n",
       " {'From': 21L,\n",
       "  'Item Name': 'MAF-COD-SEQUENCE',\n",
       "  'To': 23L,\n",
       "  'col_name': 'maf-cod-sequence',\n",
       "  'length': 3L},\n",
       " {'From': 25L,\n",
       "  'Item Name': 'MAF-COD-ALPHA',\n",
       "  'To': 26L,\n",
       "  'col_name': 'maf-cod-alpha',\n",
       "  'length': 2L},\n",
       " {'From': 28L,\n",
       "  'Item Name': 'MAF-COO-SEQUENCE',\n",
       "  'To': 30L,\n",
       "  'col_name': 'maf-coo-sequence',\n",
       "  'length': 3L},\n",
       " {'From': 32L,\n",
       "  'Item Name': 'MAF-COO-ALPHA',\n",
       "  'To': 33L,\n",
       "  'col_name': 'maf-coo-alpha',\n",
       "  'length': 2L},\n",
       " {'From': 35L,\n",
       "  'Item Name': 'MAF-ACCOUNT-MM',\n",
       "  'To': 36L,\n",
       "  'col_name': 'maf-account-mm',\n",
       "  'length': 2L},\n",
       " {'From': 37L,\n",
       "  'Item Name': 'MAF-DATE-DELIMITER',\n",
       "  'To': 37L,\n",
       "  'col_name': 'maf-date-delimiter',\n",
       "  'length': 1L},\n",
       " {'From': 38L,\n",
       "  'Item Name': 'MAF-ACCOUNT-CCYY',\n",
       "  'To': 41L,\n",
       "  'col_name': 'maf-account-ccyy',\n",
       "  'length': 4L},\n",
       " {'From': 43L,\n",
       "  'Item Name': 'MAF-PORT-SEQUENCE',\n",
       "  'To': 45L,\n",
       "  'col_name': 'maf-port-sequence',\n",
       "  'length': 3L},\n",
       " {'From': 47L,\n",
       "  'Item Name': 'MAF-PORT-ALPHA',\n",
       "  'To': 49L,\n",
       "  'col_name': 'maf-port-alpha',\n",
       "  'length': 3L},\n",
       " {'From': 51L,\n",
       "  'Item Name': 'MAF-FLAG-SEQUENCE',\n",
       "  'To': 53L,\n",
       "  'col_name': 'maf-flag-sequence',\n",
       "  'length': 3L},\n",
       " {'From': 55L,\n",
       "  'Item Name': 'MAF-FLAG-ALPHA',\n",
       "  'To': 56L,\n",
       "  'col_name': 'maf-flag-alpha',\n",
       "  'length': 2L},\n",
       " {'From': 58L,\n",
       "  'Item Name': 'MAF-COUNTRY-SEQUENCE-COO-IMP',\n",
       "  'To': 60L,\n",
       "  'col_name': 'maf-country-sequence-coo-imp',\n",
       "  'length': 3L},\n",
       " {'From': 62L,\n",
       "  'Item Name': 'MAF-COUNTRY-ALPHA-COO-IMP',\n",
       "  'To': 63L,\n",
       "  'col_name': 'maf-country-alpha-coo-imp',\n",
       "  'length': 2L},\n",
       " {'From': 65L,\n",
       "  'Item Name': 'MAF-TRADE-INDICATOR',\n",
       "  'To': 65L,\n",
       "  'col_name': 'maf-trade-indicator',\n",
       "  'length': 1L},\n",
       " {'From': 67L,\n",
       "  'Item Name': 'MAF-CONTAINER',\n",
       "  'To': 69L,\n",
       "  'col_name': 'maf-container',\n",
       "  'length': 3L},\n",
       " {'From': 71L,\n",
       "  'Item Name': 'MAF-MODE-OF-TRANSPORT',\n",
       "  'To': 73L,\n",
       "  'col_name': 'maf-mode-of-transport',\n",
       "  'length': 3L},\n",
       " {'From': 75L,\n",
       "  'Item Name': 'MAF-INLAND-MOT',\n",
       "  'To': 76L,\n",
       "  'col_name': 'maf-inland-mot',\n",
       "  'length': 2L},\n",
       " {'From': 78L,\n",
       "  'Item Name': 'MAF-GOLO-SEQUENCE',\n",
       "  'To': 80L,\n",
       "  'col_name': 'maf-golo-sequence',\n",
       "  'length': 3L},\n",
       " {'From': 82L,\n",
       "  'Item Name': 'MAF-GOLO-ALPHA',\n",
       "  'To': 84L,\n",
       "  'col_name': 'maf-golo-alpha',\n",
       "  'length': 3L},\n",
       " {'From': 86L,\n",
       "  'Item Name': 'MAF-SUITE-INDICATOR',\n",
       "  'To': 88L,\n",
       "  'col_name': 'maf-suite-indicator',\n",
       "  'length': 3L},\n",
       " {'From': 90L,\n",
       "  'Item Name': 'MAF-PROCEDURE-CODE',\n",
       "  'To': 92L,\n",
       "  'col_name': 'maf-procedure-code',\n",
       "  'length': 3L},\n",
       " {'From': 94L,\n",
       "  'Item Name': 'MAF-CB-CODE',\n",
       "  'To': 96L,\n",
       "  'col_name': 'maf-cb-code',\n",
       "  'length': 3L},\n",
       " {'From': 98L,\n",
       "  'Item Name': 'MAF-VALUE',\n",
       "  'To': 113L,\n",
       "  'col_name': 'maf-value',\n",
       "  'length': 16L},\n",
       " {'From': 115L,\n",
       "  'Item Name': 'MAF-QUANTITY-1',\n",
       "  'To': 128L,\n",
       "  'col_name': 'maf-quantity-1',\n",
       "  'length': 14L},\n",
       " {'From': 130L,\n",
       "  'Item Name': 'MAF-QUANTITY-2',\n",
       "  'To': 143L,\n",
       "  'col_name': 'maf-quantity-2',\n",
       "  'length': 14L}]"
      ]
     },
     "execution_count": 140,
     "metadata": {},
     "output_type": "execute_result"
    }
   ],
   "source": [
    "middle_record_specs.to_dict(orient=\"records\")"
   ]
  },
  {
   "cell_type": "code",
   "execution_count": 201,
   "metadata": {
    "collapsed": false
   },
   "outputs": [],
   "source": [
    "middle_records = pd.DataFrame(middle_records,columns=[\"all\"])\n",
    "\n",
    "for col in middle_record_specs_dict:\n",
    "    middle_records[col[\"Item Name\"]] = middle_records[\"all\"].str.slice(col[\"From\"]-1,col[\"To\"])\n",
    "middle_records = middle_records.drop([\"all\", \"MAF-ITEM-FIELDS\"],axis=1)"
   ]
  },
  {
   "cell_type": "code",
   "execution_count": 202,
   "metadata": {
    "collapsed": false
   },
   "outputs": [
    {
     "data": {
      "text/plain": [
       "['MAF-COMCODE',\n",
       " 'MAF-SITC',\n",
       " 'MAF-RECORD-TYPE',\n",
       " 'MAF-COD-SEQUENCE',\n",
       " 'MAF-COD-ALPHA',\n",
       " 'MAF-COO-SEQUENCE',\n",
       " 'MAF-COO-ALPHA',\n",
       " 'MAF-ACCOUNT-MM',\n",
       " 'MAF-DATE-DELIMITER',\n",
       " 'MAF-ACCOUNT-CCYY',\n",
       " 'MAF-PORT-SEQUENCE',\n",
       " 'MAF-PORT-ALPHA',\n",
       " 'MAF-FLAG-SEQUENCE',\n",
       " 'MAF-FLAG-ALPHA',\n",
       " 'MAF-COUNTRY-SEQUENCE-COO-IMP',\n",
       " 'MAF-COUNTRY-ALPHA-COO-IMP',\n",
       " 'MAF-TRADE-INDICATOR',\n",
       " 'MAF-CONTAINER',\n",
       " 'MAF-MODE-OF-TRANSPORT',\n",
       " 'MAF-INLAND-MOT',\n",
       " 'MAF-GOLO-SEQUENCE',\n",
       " 'MAF-GOLO-ALPHA',\n",
       " 'MAF-SUITE-INDICATOR',\n",
       " 'MAF-PROCEDURE-CODE',\n",
       " 'MAF-CB-CODE',\n",
       " 'MAF-VALUE',\n",
       " 'MAF-QUANTITY-1',\n",
       " 'MAF-QUANTITY-2']"
      ]
     },
     "execution_count": 202,
     "metadata": {},
     "output_type": "execute_result"
    }
   ],
   "source": [
    "list(middle_records.columns)"
   ]
  },
  {
   "cell_type": "code",
   "execution_count": 203,
   "metadata": {
    "collapsed": false
   },
   "outputs": [
    {
     "name": "stdout",
     "output_type": "stream",
     "text": [
      "maf-comcode\n",
      "maf-sitc\n",
      "maf-record-type\n",
      "maf-cod-sequence\n",
      "maf-cod-alpha\n",
      "maf-coo-sequence\n",
      "maf-coo-alpha\n",
      "maf-account-mm\n",
      "maf-date-delimiter\n",
      "maf-account-ccyy\n",
      "maf-port-sequence\n",
      "maf-port-alpha\n",
      "maf-flag-sequence\n",
      "maf-flag-alpha\n",
      "maf-country-sequence-coo-imp\n",
      "maf-country-alpha-coo-imp\n",
      "maf-trade-indicator\n",
      "maf-container\n",
      "maf-mode-of-transport\n",
      "maf-inland-mot\n",
      "maf-golo-sequence\n",
      "maf-golo-alpha\n",
      "maf-suite-indicator\n",
      "maf-procedure-code\n",
      "maf-cb-code\n",
      "maf-value\n",
      "maf-quantity-1\n",
      "maf-quantity-2\n"
     ]
    }
   ],
   "source": [
    "#Now write out to database.  Use SQLAlchemy\n",
    "my_cols = list(middle_records.columns)\n",
    "my_cols = [c.lower() for c in my_cols]\n",
    "for c in my_cols:\n",
    "    print c"
   ]
  },
  {
   "cell_type": "code",
   "execution_count": 135,
   "metadata": {
    "collapsed": false
   },
   "outputs": [],
   "source": []
  },
  {
   "cell_type": "code",
   "execution_count": 136,
   "metadata": {
    "collapsed": true
   },
   "outputs": [],
   "source": [
    "middle_record_specs[\"col_name\"] = middle_record_specs[\"Item Name\"].str.lower()\n",
    "middle_record_specs[\"length\"] = middle_record_specs[\"To\"] - middle_record_specs[\"From\"] + 1\n",
    "middle_record_specs[[\"col_name\",\"length\"]].to_clipboard()"
   ]
  },
  {
   "cell_type": "code",
   "execution_count": 138,
   "metadata": {
    "collapsed": false
   },
   "outputs": [],
   "source": []
  },
  {
   "cell_type": "code",
   "execution_count": 204,
   "metadata": {
    "collapsed": true
   },
   "outputs": [],
   "source": [
    "\n",
    "with open(\"SMKA121504\") as fh:\n",
    "    lines = fh.readlines()\n",
    "    header_record = lines[0]\n",
    "    middle_records =  lines[1:-1]\n",
    "    tail_record = lines[-1]"
   ]
  },
  {
   "cell_type": "code",
   "execution_count": 148,
   "metadata": {
    "collapsed": false
   },
   "outputs": [],
   "source": [
    "#df = pd.read_clipboard()"
   ]
  },
  {
   "cell_type": "code",
   "execution_count": 149,
   "metadata": {
    "collapsed": false
   },
   "outputs": [],
   "source": [
    "#df.to_csv(\"control_file_trailer_specs.csv\")"
   ]
  },
  {
   "cell_type": "code",
   "execution_count": 280,
   "metadata": {
    "collapsed": true
   },
   "outputs": [],
   "source": [
    "import codecs\n",
    "with codecs.open(\"SMKA121504\",encoding=\"windows-1252\") as fh:\n",
    "    lines = fh.readlines()\n",
    "    header_record = lines[0]\n",
    "    middle_records = lines[1:-1]\n",
    "    tail_record = lines[-1]"
   ]
  },
  {
   "cell_type": "code",
   "execution_count": 298,
   "metadata": {
    "collapsed": false
   },
   "outputs": [
    {
     "data": {
      "text/html": [
       "<div style=\"max-height:1000px;max-width:1500px;overflow:auto;\">\n",
       "<table border=\"1\" class=\"dataframe\">\n",
       "  <thead>\n",
       "    <tr style=\"text-align: right;\">\n",
       "      <th></th>\n",
       "      <th>From</th>\n",
       "      <th>To</th>\n",
       "      <th>Item Name</th>\n",
       "      <th>col_name</th>\n",
       "      <th>length</th>\n",
       "    </tr>\n",
       "  </thead>\n",
       "  <tbody>\n",
       "    <tr>\n",
       "      <th>0 </th>\n",
       "      <td>   1</td>\n",
       "      <td>   9</td>\n",
       "      <td>  MK-COMCODE</td>\n",
       "      <td>  mk_comcode</td>\n",
       "      <td>  9</td>\n",
       "    </tr>\n",
       "    <tr>\n",
       "      <th>2 </th>\n",
       "      <td>  11</td>\n",
       "      <td>  11</td>\n",
       "      <td>      FILLER</td>\n",
       "      <td>      filler</td>\n",
       "      <td>  1</td>\n",
       "    </tr>\n",
       "    <tr>\n",
       "      <th>4 </th>\n",
       "      <td>  13</td>\n",
       "      <td>  17</td>\n",
       "      <td>      FILLER</td>\n",
       "      <td>      filler</td>\n",
       "      <td>  5</td>\n",
       "    </tr>\n",
       "    <tr>\n",
       "      <th>6 </th>\n",
       "      <td>  19</td>\n",
       "      <td>  23</td>\n",
       "      <td>      FILLER</td>\n",
       "      <td>      filler</td>\n",
       "      <td>  5</td>\n",
       "    </tr>\n",
       "    <tr>\n",
       "      <th>8 </th>\n",
       "      <td>  25</td>\n",
       "      <td>  29</td>\n",
       "      <td>      FILLER</td>\n",
       "      <td>      filler</td>\n",
       "      <td>  5</td>\n",
       "    </tr>\n",
       "    <tr>\n",
       "      <th>10</th>\n",
       "      <td>  31</td>\n",
       "      <td>  35</td>\n",
       "      <td>      FILLER</td>\n",
       "      <td>      filler</td>\n",
       "      <td>  5</td>\n",
       "    </tr>\n",
       "    <tr>\n",
       "      <th>12</th>\n",
       "      <td>  37</td>\n",
       "      <td>  37</td>\n",
       "      <td>      FILLER</td>\n",
       "      <td>      filler</td>\n",
       "      <td>  1</td>\n",
       "    </tr>\n",
       "    <tr>\n",
       "      <th>14</th>\n",
       "      <td>  39</td>\n",
       "      <td>  43</td>\n",
       "      <td>      FILLER</td>\n",
       "      <td>      filler</td>\n",
       "      <td>  5</td>\n",
       "    </tr>\n",
       "    <tr>\n",
       "      <th>16</th>\n",
       "      <td>  45</td>\n",
       "      <td>  45</td>\n",
       "      <td>      FILLER</td>\n",
       "      <td>      filler</td>\n",
       "      <td>  1</td>\n",
       "    </tr>\n",
       "    <tr>\n",
       "      <th>18</th>\n",
       "      <td>  47</td>\n",
       "      <td>  49</td>\n",
       "      <td>      FILLER</td>\n",
       "      <td>      filler</td>\n",
       "      <td>  3</td>\n",
       "    </tr>\n",
       "    <tr>\n",
       "      <th>20</th>\n",
       "      <td>  51</td>\n",
       "      <td>  53</td>\n",
       "      <td>      FILLER</td>\n",
       "      <td>      filler</td>\n",
       "      <td>  3</td>\n",
       "    </tr>\n",
       "    <tr>\n",
       "      <th>22</th>\n",
       "      <td>  55</td>\n",
       "      <td>  57</td>\n",
       "      <td>      FILLER</td>\n",
       "      <td>      filler</td>\n",
       "      <td>  3</td>\n",
       "    </tr>\n",
       "    <tr>\n",
       "      <th>24</th>\n",
       "      <td>  59</td>\n",
       "      <td>  60</td>\n",
       "      <td>      FILLER</td>\n",
       "      <td>      filler</td>\n",
       "      <td>  2</td>\n",
       "    </tr>\n",
       "    <tr>\n",
       "      <th>26</th>\n",
       "      <td>  62</td>\n",
       "      <td>  63</td>\n",
       "      <td>      FILLER</td>\n",
       "      <td>      filler</td>\n",
       "      <td>  2</td>\n",
       "    </tr>\n",
       "    <tr>\n",
       "      <th>28</th>\n",
       "      <td>  65</td>\n",
       "      <td>  66</td>\n",
       "      <td>      FILLER</td>\n",
       "      <td>      filler</td>\n",
       "      <td>  2</td>\n",
       "    </tr>\n",
       "    <tr>\n",
       "      <th>30</th>\n",
       "      <td>  68</td>\n",
       "      <td>  69</td>\n",
       "      <td>      FILLER</td>\n",
       "      <td>      filler</td>\n",
       "      <td>  2</td>\n",
       "    </tr>\n",
       "    <tr>\n",
       "      <th>32</th>\n",
       "      <td>  71</td>\n",
       "      <td>  71</td>\n",
       "      <td>      FILLER</td>\n",
       "      <td>      filler</td>\n",
       "      <td>  1</td>\n",
       "    </tr>\n",
       "    <tr>\n",
       "      <th>34</th>\n",
       "      <td>  73</td>\n",
       "      <td>  73</td>\n",
       "      <td>      FILLER</td>\n",
       "      <td>      filler</td>\n",
       "      <td>  1</td>\n",
       "    </tr>\n",
       "    <tr>\n",
       "      <th>36</th>\n",
       "      <td>  75</td>\n",
       "      <td>  75</td>\n",
       "      <td>      FILLER</td>\n",
       "      <td>      filler</td>\n",
       "      <td>  1</td>\n",
       "    </tr>\n",
       "    <tr>\n",
       "      <th>38</th>\n",
       "      <td>  77</td>\n",
       "      <td>  77</td>\n",
       "      <td>      FILLER</td>\n",
       "      <td>      filler</td>\n",
       "      <td>  1</td>\n",
       "    </tr>\n",
       "    <tr>\n",
       "      <th>40</th>\n",
       "      <td>  79</td>\n",
       "      <td>  79</td>\n",
       "      <td>      FILLER</td>\n",
       "      <td>      filler</td>\n",
       "      <td>  1</td>\n",
       "    </tr>\n",
       "    <tr>\n",
       "      <th>42</th>\n",
       "      <td>  81</td>\n",
       "      <td>  81</td>\n",
       "      <td>      FILLER</td>\n",
       "      <td>      filler</td>\n",
       "      <td>  1</td>\n",
       "    </tr>\n",
       "    <tr>\n",
       "      <th>44</th>\n",
       "      <td>  83</td>\n",
       "      <td>  83</td>\n",
       "      <td>      FILLER</td>\n",
       "      <td>      filler</td>\n",
       "      <td>  1</td>\n",
       "    </tr>\n",
       "    <tr>\n",
       "      <th>46</th>\n",
       "      <td>  85</td>\n",
       "      <td>  85</td>\n",
       "      <td>      FILLER</td>\n",
       "      <td>      filler</td>\n",
       "      <td>  1</td>\n",
       "    </tr>\n",
       "    <tr>\n",
       "      <th>48</th>\n",
       "      <td>  87</td>\n",
       "      <td>  89</td>\n",
       "      <td>      FILLER</td>\n",
       "      <td>      filler</td>\n",
       "      <td>  3</td>\n",
       "    </tr>\n",
       "    <tr>\n",
       "      <th>50</th>\n",
       "      <td>  91</td>\n",
       "      <td>  93</td>\n",
       "      <td>      FILLER</td>\n",
       "      <td>      filler</td>\n",
       "      <td>  3</td>\n",
       "    </tr>\n",
       "    <tr>\n",
       "      <th>52</th>\n",
       "      <td>  95</td>\n",
       "      <td> 151</td>\n",
       "      <td>      FILLER</td>\n",
       "      <td>      filler</td>\n",
       "      <td> 57</td>\n",
       "    </tr>\n",
       "    <tr>\n",
       "      <th>54</th>\n",
       "      <td> 153</td>\n",
       "      <td> 174</td>\n",
       "      <td> MK-FILENAME</td>\n",
       "      <td> mk_filename</td>\n",
       "      <td> 22</td>\n",
       "    </tr>\n",
       "    <tr>\n",
       "      <th>56</th>\n",
       "      <td> 176</td>\n",
       "      <td> 179</td>\n",
       "      <td>     MK-YEAR</td>\n",
       "      <td>     mk_year</td>\n",
       "      <td>  4</td>\n",
       "    </tr>\n",
       "    <tr>\n",
       "      <th>58</th>\n",
       "      <td> 181</td>\n",
       "      <td> 182</td>\n",
       "      <td>    MK-MONTH</td>\n",
       "      <td>    mk_month</td>\n",
       "      <td>  2</td>\n",
       "    </tr>\n",
       "  </tbody>\n",
       "</table>\n",
       "</div>"
      ],
      "text/plain": [
       "    From   To    Item Name     col_name  length\n",
       "0      1    9   MK-COMCODE   mk_comcode       9\n",
       "2     11   11       FILLER       filler       1\n",
       "4     13   17       FILLER       filler       5\n",
       "6     19   23       FILLER       filler       5\n",
       "8     25   29       FILLER       filler       5\n",
       "10    31   35       FILLER       filler       5\n",
       "12    37   37       FILLER       filler       1\n",
       "14    39   43       FILLER       filler       5\n",
       "16    45   45       FILLER       filler       1\n",
       "18    47   49       FILLER       filler       3\n",
       "20    51   53       FILLER       filler       3\n",
       "22    55   57       FILLER       filler       3\n",
       "24    59   60       FILLER       filler       2\n",
       "26    62   63       FILLER       filler       2\n",
       "28    65   66       FILLER       filler       2\n",
       "30    68   69       FILLER       filler       2\n",
       "32    71   71       FILLER       filler       1\n",
       "34    73   73       FILLER       filler       1\n",
       "36    75   75       FILLER       filler       1\n",
       "38    77   77       FILLER       filler       1\n",
       "40    79   79       FILLER       filler       1\n",
       "42    81   81       FILLER       filler       1\n",
       "44    83   83       FILLER       filler       1\n",
       "46    85   85       FILLER       filler       1\n",
       "48    87   89       FILLER       filler       3\n",
       "50    91   93       FILLER       filler       3\n",
       "52    95  151       FILLER       filler      57\n",
       "54   153  174  MK-FILENAME  mk_filename      22\n",
       "56   176  179      MK-YEAR      mk_year       4\n",
       "58   181  182     MK-MONTH     mk_month       2"
      ]
     },
     "execution_count": 298,
     "metadata": {},
     "output_type": "execute_result"
    }
   ],
   "source": [
    "header_record_specs = pd.read_csv(\"pycharm/specs/control_file_header_specs.csv\")\n",
    "header_record_specs = get_fields_df(header_record_specs) \n",
    "header_record\n",
    "header_record_dict = {}\n",
    "for row in header_record_specs.iterrows():\n",
    "    r = row[1]\n",
    "    key = r[\"Item Name\"]\n",
    "    value = header_record[r[\"From\"]-1:r[\"To\"]].strip()\n",
    "    header_record_dict[key] = value\n",
    "hr_df = pd.DataFrame([header_record_dict])\n",
    "\n",
    "header_record_specs[\"col_name\"] = header_record_specs[\"Item Name\"].str.lower().str.replace(\"-\",\"_\")\n",
    "header_record_specs[\"length\"] = header_record_specs[\"To\"] - header_record_specs[\"From\"] + 1\n",
    "header_record_specs[[\"col_name\",\"length\"]].to_clipboard(index=False)\n",
    "header_record_specs"
   ]
  },
  {
   "cell_type": "code",
   "execution_count": 293,
   "metadata": {
    "collapsed": false
   },
   "outputs": [
    {
     "name": "stdout",
     "output_type": "stream",
     "text": [
      "   Ref  From   To  Level         Item Name Type  Size  Algn Picture  Occurs  \\\n",
      "0    2     1  151      5            FILLER    D   151   NaN  X(151)     NaN   \n",
      "1    3   152  152      5         DELIMITER    D     1   NaN       X     NaN   \n",
      "2    4   153  159      5  MK-HEADING-COUNT    D     7   NaN    9(7)     NaN   \n",
      "\n",
      "      Value Range  \n",
      "0  151 characters  \n",
      "1               |  \n",
      "2        7 digits  \n"
     ]
    },
    {
     "data": {
      "text/html": [
       "<div style=\"max-height:1000px;max-width:1500px;overflow:auto;\">\n",
       "<table border=\"1\" class=\"dataframe\">\n",
       "  <thead>\n",
       "    <tr style=\"text-align: right;\">\n",
       "      <th></th>\n",
       "      <th>DELIMITER</th>\n",
       "      <th>FILLER</th>\n",
       "      <th>MK-HEADING-COUNT</th>\n",
       "    </tr>\n",
       "  </thead>\n",
       "  <tbody>\n",
       "    <tr>\n",
       "      <th>0</th>\n",
       "      <td> |</td>\n",
       "      <td> 999999999| |     |     |     |     | |     | |...</td>\n",
       "      <td> 0009426</td>\n",
       "    </tr>\n",
       "  </tbody>\n",
       "</table>\n",
       "</div>"
      ],
      "text/plain": [
       "  DELIMITER                                             FILLER  \\\n",
       "0         |  999999999| |     |     |     |     | |     | |...   \n",
       "\n",
       "  MK-HEADING-COUNT  \n",
       "0          0009426  "
      ]
     },
     "execution_count": 293,
     "metadata": {},
     "output_type": "execute_result"
    }
   ],
   "source": [
    "trailer_record_specs = pd.read_csv(\"pycharm/specs/control_file_trailer_specs.csv\")\n",
    "#trailer_record_specs = get_fields_df(trailer_record_specs) \n",
    "print trailer_record_specs\n",
    "trailer_record_dict = {}\n",
    "for row in trailer_record_specs.iterrows():\n",
    "    r = row[1]\n",
    "    key = r[\"Item Name\"]\n",
    "    value = tail_record[r[\"From\"]-1:r[\"To\"]].strip()\n",
    "    trailer_record_dict[key] = value\n",
    "pd.DataFrame([trailer_record_dict])"
   ]
  },
  {
   "cell_type": "code",
   "execution_count": null,
   "metadata": {
    "collapsed": true
   },
   "outputs": [],
   "source": []
  },
  {
   "cell_type": "code",
   "execution_count": 284,
   "metadata": {
    "collapsed": false
   },
   "outputs": [
    {
     "data": {
      "text/html": [
       "<div style=\"max-height:1000px;max-width:1500px;overflow:auto;\">\n",
       "<table border=\"1\" class=\"dataframe\">\n",
       "  <thead>\n",
       "    <tr style=\"text-align: right;\">\n",
       "      <th></th>\n",
       "      <th>From</th>\n",
       "      <th>To</th>\n",
       "      <th>Item Name</th>\n",
       "    </tr>\n",
       "  </thead>\n",
       "  <tbody>\n",
       "    <tr>\n",
       "      <th>0 </th>\n",
       "      <td>   1</td>\n",
       "      <td>    9</td>\n",
       "      <td>             MK-COMCODE</td>\n",
       "    </tr>\n",
       "    <tr>\n",
       "      <th>2 </th>\n",
       "      <td>  11</td>\n",
       "      <td>   11</td>\n",
       "      <td>     MK-INTRA-EXTRA-IND</td>\n",
       "    </tr>\n",
       "    <tr>\n",
       "      <th>4 </th>\n",
       "      <td>  13</td>\n",
       "      <td>   14</td>\n",
       "      <td>         MK-INTRA-MM-ON</td>\n",
       "    </tr>\n",
       "    <tr>\n",
       "      <th>6 </th>\n",
       "      <td>  16</td>\n",
       "      <td>   17</td>\n",
       "      <td>         MK-INTRA-YY-ON</td>\n",
       "    </tr>\n",
       "    <tr>\n",
       "      <th>8 </th>\n",
       "      <td>  19</td>\n",
       "      <td>   20</td>\n",
       "      <td>        MK-INTRA-MM-OFF</td>\n",
       "    </tr>\n",
       "    <tr>\n",
       "      <th>10</th>\n",
       "      <td>  22</td>\n",
       "      <td>   23</td>\n",
       "      <td>        MK-INTRA-YY-OFF</td>\n",
       "    </tr>\n",
       "    <tr>\n",
       "      <th>12</th>\n",
       "      <td>  25</td>\n",
       "      <td>   26</td>\n",
       "      <td>         MK-EXTRA-MM-ON</td>\n",
       "    </tr>\n",
       "    <tr>\n",
       "      <th>14</th>\n",
       "      <td>  28</td>\n",
       "      <td>   29</td>\n",
       "      <td>         MK-EXTRA-YY-ON</td>\n",
       "    </tr>\n",
       "    <tr>\n",
       "      <th>16</th>\n",
       "      <td>  31</td>\n",
       "      <td>   32</td>\n",
       "      <td>        MK-EXTRA-MM-OFF</td>\n",
       "    </tr>\n",
       "    <tr>\n",
       "      <th>18</th>\n",
       "      <td>  34</td>\n",
       "      <td>   35</td>\n",
       "      <td>        MK-EXTRA-YY-OFF</td>\n",
       "    </tr>\n",
       "    <tr>\n",
       "      <th>20</th>\n",
       "      <td>  37</td>\n",
       "      <td>   37</td>\n",
       "      <td>        MK-NON-TRADE-ID</td>\n",
       "    </tr>\n",
       "    <tr>\n",
       "      <th>22</th>\n",
       "      <td>  39</td>\n",
       "      <td>   43</td>\n",
       "      <td>             MK-SITC-NO</td>\n",
       "    </tr>\n",
       "    <tr>\n",
       "      <th>24</th>\n",
       "      <td>  45</td>\n",
       "      <td>   45</td>\n",
       "      <td>            MK-SITC-IND</td>\n",
       "    </tr>\n",
       "    <tr>\n",
       "      <th>26</th>\n",
       "      <td>  47</td>\n",
       "      <td>   49</td>\n",
       "      <td>         MK-SITC-CONV-A</td>\n",
       "    </tr>\n",
       "    <tr>\n",
       "      <th>28</th>\n",
       "      <td>  51</td>\n",
       "      <td>   53</td>\n",
       "      <td>         MK-SITC-CONV-B</td>\n",
       "    </tr>\n",
       "    <tr>\n",
       "      <th>30</th>\n",
       "      <td>  55</td>\n",
       "      <td>   57</td>\n",
       "      <td>               MK-CN-Q2</td>\n",
       "    </tr>\n",
       "    <tr>\n",
       "      <th>32</th>\n",
       "      <td>  59</td>\n",
       "      <td>   60</td>\n",
       "      <td>       MK-SUPP-ARRIVALS</td>\n",
       "    </tr>\n",
       "    <tr>\n",
       "      <th>34</th>\n",
       "      <td>  62</td>\n",
       "      <td>   63</td>\n",
       "      <td>     MK-SUPP-DESPATCHES</td>\n",
       "    </tr>\n",
       "    <tr>\n",
       "      <th>36</th>\n",
       "      <td>  65</td>\n",
       "      <td>   66</td>\n",
       "      <td>        MK-SUPP-IMPORTS</td>\n",
       "    </tr>\n",
       "    <tr>\n",
       "      <th>38</th>\n",
       "      <td>  68</td>\n",
       "      <td>   69</td>\n",
       "      <td>        MK-SUPP-EXPORTS</td>\n",
       "    </tr>\n",
       "    <tr>\n",
       "      <th>40</th>\n",
       "      <td>  71</td>\n",
       "      <td>   71</td>\n",
       "      <td>       MK-SUB-GROUP-ARR</td>\n",
       "    </tr>\n",
       "    <tr>\n",
       "      <th>42</th>\n",
       "      <td>  73</td>\n",
       "      <td>   73</td>\n",
       "      <td>            MK-ITEM-ARR</td>\n",
       "    </tr>\n",
       "    <tr>\n",
       "      <th>44</th>\n",
       "      <td>  75</td>\n",
       "      <td>   75</td>\n",
       "      <td>      MK-SUB-GROUP-DESP</td>\n",
       "    </tr>\n",
       "    <tr>\n",
       "      <th>46</th>\n",
       "      <td>  77</td>\n",
       "      <td>   77</td>\n",
       "      <td>           MK-ITEM-DESP</td>\n",
       "    </tr>\n",
       "    <tr>\n",
       "      <th>48</th>\n",
       "      <td>  79</td>\n",
       "      <td>   79</td>\n",
       "      <td>       MK-SUB-GROUP-IMP</td>\n",
       "    </tr>\n",
       "    <tr>\n",
       "      <th>50</th>\n",
       "      <td>  81</td>\n",
       "      <td>   81</td>\n",
       "      <td>            MK-ITEM-IMP</td>\n",
       "    </tr>\n",
       "    <tr>\n",
       "      <th>52</th>\n",
       "      <td>  83</td>\n",
       "      <td>   83</td>\n",
       "      <td>       MK-SUB-GROUP-EXP</td>\n",
       "    </tr>\n",
       "    <tr>\n",
       "      <th>54</th>\n",
       "      <td>  85</td>\n",
       "      <td>   85</td>\n",
       "      <td>            MK-ITEM-EXP</td>\n",
       "    </tr>\n",
       "    <tr>\n",
       "      <th>56</th>\n",
       "      <td>  87</td>\n",
       "      <td>   89</td>\n",
       "      <td>          MK-QTY1-ALPHA</td>\n",
       "    </tr>\n",
       "    <tr>\n",
       "      <th>58</th>\n",
       "      <td>  91</td>\n",
       "      <td>   93</td>\n",
       "      <td>          MK-QTY2-ALPHA</td>\n",
       "    </tr>\n",
       "    <tr>\n",
       "      <th>60</th>\n",
       "      <td>  95</td>\n",
       "      <td>  155</td>\n",
       "      <td>   MK-COMMODITY-ALPHA-1</td>\n",
       "    </tr>\n",
       "    <tr>\n",
       "      <th>62</th>\n",
       "      <td> 157</td>\n",
       "      <td>  204</td>\n",
       "      <td>   MK-COMMODITY-ALPHA-2</td>\n",
       "    </tr>\n",
       "    <tr>\n",
       "      <th>63</th>\n",
       "      <td>  95</td>\n",
       "      <td> 5000</td>\n",
       "      <td> MK-COMMODITY-ALPHA-ALL</td>\n",
       "    </tr>\n",
       "  </tbody>\n",
       "</table>\n",
       "</div>"
      ],
      "text/plain": [
       "    From    To               Item Name\n",
       "0      1     9              MK-COMCODE\n",
       "2     11    11      MK-INTRA-EXTRA-IND\n",
       "4     13    14          MK-INTRA-MM-ON\n",
       "6     16    17          MK-INTRA-YY-ON\n",
       "8     19    20         MK-INTRA-MM-OFF\n",
       "10    22    23         MK-INTRA-YY-OFF\n",
       "12    25    26          MK-EXTRA-MM-ON\n",
       "14    28    29          MK-EXTRA-YY-ON\n",
       "16    31    32         MK-EXTRA-MM-OFF\n",
       "18    34    35         MK-EXTRA-YY-OFF\n",
       "20    37    37         MK-NON-TRADE-ID\n",
       "22    39    43              MK-SITC-NO\n",
       "24    45    45             MK-SITC-IND\n",
       "26    47    49          MK-SITC-CONV-A\n",
       "28    51    53          MK-SITC-CONV-B\n",
       "30    55    57                MK-CN-Q2\n",
       "32    59    60        MK-SUPP-ARRIVALS\n",
       "34    62    63      MK-SUPP-DESPATCHES\n",
       "36    65    66         MK-SUPP-IMPORTS\n",
       "38    68    69         MK-SUPP-EXPORTS\n",
       "40    71    71        MK-SUB-GROUP-ARR\n",
       "42    73    73             MK-ITEM-ARR\n",
       "44    75    75       MK-SUB-GROUP-DESP\n",
       "46    77    77            MK-ITEM-DESP\n",
       "48    79    79        MK-SUB-GROUP-IMP\n",
       "50    81    81             MK-ITEM-IMP\n",
       "52    83    83        MK-SUB-GROUP-EXP\n",
       "54    85    85             MK-ITEM-EXP\n",
       "56    87    89           MK-QTY1-ALPHA\n",
       "58    91    93           MK-QTY2-ALPHA\n",
       "60    95   155    MK-COMMODITY-ALPHA-1\n",
       "62   157   204    MK-COMMODITY-ALPHA-2\n",
       "63    95  5000  MK-COMMODITY-ALPHA-ALL"
      ]
     },
     "execution_count": 284,
     "metadata": {},
     "output_type": "execute_result"
    }
   ],
   "source": [
    "middle_record_specs = pd.read_csv(\"pycharm/specs/control_file_middle_specs.csv\")\n",
    "middle_record_specs = get_fields_df(middle_record_specs)\n",
    "middle_record_specs_dict = middle_record_specs.to_dict(orient=\"records\")\n",
    "middle_record_specs\n",
    "#pd.read_csv(\"control_file_middle_specs.csv\")"
   ]
  },
  {
   "cell_type": "code",
   "execution_count": 245,
   "metadata": {
    "collapsed": false
   },
   "outputs": [],
   "source": [
    "middle_records = pd.DataFrame(middle_records,columns=[\"all\"])\n",
    "\n",
    "for col in middle_record_specs_dict:\n",
    "    middle_records[col[\"Item Name\"]] = middle_records[\"all\"].str.slice(col[\"From\"]-1,col[\"To\"])\n",
    "middle_records = middle_records.drop([\"all\"],axis=1)"
   ]
  },
  {
   "cell_type": "code",
   "execution_count": 250,
   "metadata": {
    "collapsed": false
   },
   "outputs": [
    {
     "name": "stdout",
     "output_type": "stream",
     "text": [
      "mk_comcode\n",
      "mk_intra_extra_ind\n",
      "mk_intra_mm_on\n",
      "mk_intra_yy_on\n",
      "mk_intra_mm_off\n",
      "mk_intra_yy_off\n",
      "mk_extra_mm_on\n",
      "mk_extra_yy_on\n",
      "mk_extra_mm_off\n",
      "mk_extra_yy_off\n",
      "mk_non_trade_id\n",
      "mk_sitc_no\n",
      "mk_sitc_ind\n",
      "mk_sitc_conv_a\n",
      "mk_sitc_conv_b\n",
      "mk_cn_q2\n",
      "mk_supp_arrivals\n",
      "mk_supp_despatches\n",
      "mk_supp_imports\n",
      "mk_supp_exports\n",
      "mk_sub_group_arr\n",
      "mk_item_arr\n",
      "mk_sub_group_desp\n",
      "mk_item_desp\n",
      "mk_sub_group_imp\n",
      "mk_item_imp\n",
      "mk_sub_group_exp\n",
      "mk_item_exp\n",
      "mk_qty1_alpha\n",
      "mk_qty2_alpha\n",
      "mk_commodity_alpha_1\n",
      "mk_commodity_alpha_2\n",
      "mk_commodity_alpha_all\n"
     ]
    }
   ],
   "source": [
    "my_cols = list(middle_records.columns)\n",
    "my_cols = [c.lower().replace(\"-\",\"_\") for c in my_cols]\n",
    "for c in my_cols:\n",
    "    print c"
   ]
  },
  {
   "cell_type": "code",
   "execution_count": 253,
   "metadata": {
    "collapsed": false
   },
   "outputs": [],
   "source": [
    "middle_record_specs[\"col_name\"] = middle_record_specs[\"Item Name\"].str.lower().str.replace(\"-\",\"_\")\n",
    "middle_record_specs[\"length\"] = middle_record_specs[\"To\"] - middle_record_specs[\"From\"] + 1\n",
    "middle_record_specs[[\"col_name\",\"length\"]].to_clipboard(index=False)"
   ]
  },
  {
   "cell_type": "code",
   "execution_count": 268,
   "metadata": {
    "collapsed": false
   },
   "outputs": [
    {
     "ename": "UnicodeDecodeError",
     "evalue": "'utf8' codec can't decode byte 0xa0 in position 8: invalid start byte",
     "output_type": "error",
     "traceback": [
      "\u001b[1;31m---------------------------------------------------------------------------\u001b[0m",
      "\u001b[1;31mUnicodeDecodeError\u001b[0m                        Traceback (most recent call last)",
      "\u001b[1;32m<ipython-input-268-048630a87dfc>\u001b[0m in \u001b[0;36m<module>\u001b[1;34m()\u001b[0m\n\u001b[1;32m----> 1\u001b[1;33m \u001b[1;32mprint\u001b[0m \u001b[1;34m\"than 1,2\\xa0kg each,\"\u001b[0m\u001b[1;33m.\u001b[0m\u001b[0mdecode\u001b[0m\u001b[1;33m(\u001b[0m\u001b[1;34m\"utf8\"\u001b[0m\u001b[1;33m)\u001b[0m\u001b[1;33m\u001b[0m\u001b[0m\n\u001b[0m",
      "\u001b[1;32mC:\\Users\\Robin\\Anaconda\\lib\\encodings\\utf_8.pyc\u001b[0m in \u001b[0;36mdecode\u001b[1;34m(input, errors)\u001b[0m\n\u001b[0;32m     14\u001b[0m \u001b[1;33m\u001b[0m\u001b[0m\n\u001b[0;32m     15\u001b[0m \u001b[1;32mdef\u001b[0m \u001b[0mdecode\u001b[0m\u001b[1;33m(\u001b[0m\u001b[0minput\u001b[0m\u001b[1;33m,\u001b[0m \u001b[0merrors\u001b[0m\u001b[1;33m=\u001b[0m\u001b[1;34m'strict'\u001b[0m\u001b[1;33m)\u001b[0m\u001b[1;33m:\u001b[0m\u001b[1;33m\u001b[0m\u001b[0m\n\u001b[1;32m---> 16\u001b[1;33m     \u001b[1;32mreturn\u001b[0m \u001b[0mcodecs\u001b[0m\u001b[1;33m.\u001b[0m\u001b[0mutf_8_decode\u001b[0m\u001b[1;33m(\u001b[0m\u001b[0minput\u001b[0m\u001b[1;33m,\u001b[0m \u001b[0merrors\u001b[0m\u001b[1;33m,\u001b[0m \u001b[0mTrue\u001b[0m\u001b[1;33m)\u001b[0m\u001b[1;33m\u001b[0m\u001b[0m\n\u001b[0m\u001b[0;32m     17\u001b[0m \u001b[1;33m\u001b[0m\u001b[0m\n\u001b[0;32m     18\u001b[0m \u001b[1;32mclass\u001b[0m \u001b[0mIncrementalEncoder\u001b[0m\u001b[1;33m(\u001b[0m\u001b[0mcodecs\u001b[0m\u001b[1;33m.\u001b[0m\u001b[0mIncrementalEncoder\u001b[0m\u001b[1;33m)\u001b[0m\u001b[1;33m:\u001b[0m\u001b[1;33m\u001b[0m\u001b[0m\n",
      "\u001b[1;31mUnicodeDecodeError\u001b[0m: 'utf8' codec can't decode byte 0xa0 in position 8: invalid start byte"
     ]
    }
   ],
   "source": [
    "print \"than 1,2\\xa0kg each,\".decode(\"utf8\")"
   ]
  },
  {
   "cell_type": "code",
   "execution_count": 272,
   "metadata": {
    "collapsed": false
   },
   "outputs": [],
   "source": [
    "import codecs\n",
    "with codecs.open(\"SMKA121504\",encoding=\"windows-1252\") as fh:\n",
    "    lines = fh.readlines()\n",
    "    header_record = lines[0]\n",
    "    middle_records = lines[1:-1]\n",
    "    tail_record = lines[-1]"
   ]
  },
  {
   "cell_type": "code",
   "execution_count": 273,
   "metadata": {
    "collapsed": true
   },
   "outputs": [],
   "source": [
    "import codecs\n",
    "with codecs.open(\"SMKA121504\",encoding=\"windows-1252\") as fh:\n",
    "    lines = fh.readlines()\n",
    "    header_record = lines[0]\n",
    "    middle_records = lines[1:-1]\n",
    "    tail_record = lines[-1]"
   ]
  },
  {
   "cell_type": "code",
   "execution_count": null,
   "metadata": {
    "collapsed": true
   },
   "outputs": [],
   "source": [
    "import codecs\n",
    "with codecs.open(\"SMKA121504\",encoding=\"windows-1252\") as fh:\n",
    "    lines = fh.readlines()\n",
    "    header_record = lines[0]\n",
    "    middle_records = lines[1:-1]\n",
    "    tail_record = lines[-1]"
   ]
  }
 ],
 "metadata": {
  "kernelspec": {
   "display_name": "Python 2",
   "language": "python",
   "name": "python2"
  },
  "language_info": {
   "codemirror_mode": {
    "name": "ipython",
    "version": 2
   },
   "file_extension": ".py",
   "mimetype": "text/x-python",
   "name": "python",
   "nbconvert_exporter": "python",
   "pygments_lexer": "ipython2",
   "version": "2.7.6"
  }
 },
 "nbformat": 4,
 "nbformat_minor": 0
}
