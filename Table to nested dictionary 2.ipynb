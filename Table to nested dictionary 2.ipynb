{
 "cells": [
  {
   "cell_type": "code",
   "execution_count": 4,
   "metadata": {
    "collapsed": true
   },
   "outputs": [],
   "source": [
    "import pandas as pd"
   ]
  },
  {
   "cell_type": "code",
   "execution_count": 5,
   "metadata": {
    "collapsed": false
   },
   "outputs": [
    {
     "data": {
      "text/html": [
       "<div>\n",
       "<table border=\"1\" class=\"dataframe\">\n",
       "  <thead>\n",
       "    <tr style=\"text-align: right;\">\n",
       "      <th></th>\n",
       "      <th>l1</th>\n",
       "      <th>l2</th>\n",
       "      <th>l3</th>\n",
       "      <th>val</th>\n",
       "    </tr>\n",
       "  </thead>\n",
       "  <tbody>\n",
       "    <tr>\n",
       "      <th>0</th>\n",
       "      <td>a</td>\n",
       "      <td>a1</td>\n",
       "      <td>a11</td>\n",
       "      <td>1</td>\n",
       "    </tr>\n",
       "    <tr>\n",
       "      <th>1</th>\n",
       "      <td>a</td>\n",
       "      <td>a1</td>\n",
       "      <td>a12</td>\n",
       "      <td>2</td>\n",
       "    </tr>\n",
       "    <tr>\n",
       "      <th>2</th>\n",
       "      <td>a</td>\n",
       "      <td>a2</td>\n",
       "      <td>a21</td>\n",
       "      <td>3</td>\n",
       "    </tr>\n",
       "    <tr>\n",
       "      <th>3</th>\n",
       "      <td>a</td>\n",
       "      <td>a2</td>\n",
       "      <td>a22</td>\n",
       "      <td>4</td>\n",
       "    </tr>\n",
       "    <tr>\n",
       "      <th>4</th>\n",
       "      <td>b</td>\n",
       "      <td>b1</td>\n",
       "      <td>b11</td>\n",
       "      <td>5</td>\n",
       "    </tr>\n",
       "    <tr>\n",
       "      <th>5</th>\n",
       "      <td>b</td>\n",
       "      <td>b1</td>\n",
       "      <td>b12</td>\n",
       "      <td>6</td>\n",
       "    </tr>\n",
       "    <tr>\n",
       "      <th>6</th>\n",
       "      <td>b</td>\n",
       "      <td>b2</td>\n",
       "      <td>b22</td>\n",
       "      <td>7</td>\n",
       "    </tr>\n",
       "    <tr>\n",
       "      <th>7</th>\n",
       "      <td>b</td>\n",
       "      <td>b3</td>\n",
       "      <td>b34</td>\n",
       "      <td>8</td>\n",
       "    </tr>\n",
       "  </tbody>\n",
       "</table>\n",
       "</div>"
      ],
      "text/plain": [
       "  l1  l2   l3  val\n",
       "0  a  a1  a11    1\n",
       "1  a  a1  a12    2\n",
       "2  a  a2  a21    3\n",
       "3  a  a2  a22    4\n",
       "4  b  b1  b11    5\n",
       "5  b  b1  b12    6\n",
       "6  b  b2  b22    7\n",
       "7  b  b3  b34    8"
      ]
     },
     "execution_count": 5,
     "metadata": {},
     "output_type": "execute_result"
    }
   ],
   "source": [
    "df = pd.read_json('{\"l1\":{\"0\":\"a\",\"1\":\"a\",\"2\":\"a\",\"3\":\"a\",\"4\":\"b\",\"5\":\"b\",\"6\":\"b\",\"7\":\"b\"},\"l2\":{\"0\":\"a1\",\"1\":\"a1\",\"2\":\"a2\",\"3\":\"a2\",\"4\":\"b1\",\"5\":\"b1\",\"6\":\"b2\",\"7\":\"b3\"},\"l3\":{\"0\":\"a11\",\"1\":\"a12\",\"2\":\"a21\",\"3\":\"a22\",\"4\":\"b11\",\"5\":\"b12\",\"6\":\"b22\",\"7\":\"b34\"},\"val\":{\"0\":1,\"1\":2,\"2\":3,\"3\":4,\"4\":5,\"5\":6,\"6\":7,\"7\":8}}')\n",
    "df"
   ]
  },
  {
   "cell_type": "code",
   "execution_count": 6,
   "metadata": {
    "collapsed": true
   },
   "outputs": [],
   "source": [
    "d = {\"name\": \"root\",\n",
    "\"children\": []}"
   ]
  },
  {
   "cell_type": "code",
   "execution_count": 7,
   "metadata": {
    "collapsed": false
   },
   "outputs": [],
   "source": [
    "def find_element(children_list,name):\n",
    "    \"\"\"\n",
    "    Find element in children list\n",
    "    if exists or return none\n",
    "    \"\"\"\n",
    "    for i in children_list:\n",
    "        if i[\"name\"] == name:\n",
    "            return i\n",
    "    #If not found return None\n",
    "    return None\n",
    "\n",
    "def add_node(path,value,nest):\n",
    "    \"\"\"\n",
    "    The path is a list.  Each element is a name that corresponds \n",
    "    to a level in the final nested dictionary.  \n",
    "    \"\"\"\n",
    "\n",
    "    #Get first name from path\n",
    "    this_name = path.pop(0)\n",
    "    \n",
    "    #Does the element exist already?\n",
    "    element = find_element(nest[\"children\"], this_name)\n",
    "    \n",
    "    #If the element exists, we can use it, otherwise we need to create a new one\n",
    "    if element:\n",
    "        \n",
    "        if len(path)>0:\n",
    "            add_node(path,value, element)\n",
    "        \n",
    "    #Else it does not exist so create it and return its children\n",
    "    else:\n",
    "        \n",
    "        if len(path) == 0:\n",
    "            nest[\"children\"].append({\"name\": this_name, \"value\": value})\n",
    "        else:\n",
    "            #Add new element\n",
    "            nest[\"children\"].append({\"name\": this_name, \"children\":[]})\n",
    "            \n",
    "            #Get added element \n",
    "            element = nest[\"children\"][-1]\n",
    "            \n",
    "            #Still elements of path left so recurse\n",
    "            add_node(path,value, element)\n",
    "    "
   ]
  },
  {
   "cell_type": "code",
   "execution_count": 8,
   "metadata": {
    "collapsed": true
   },
   "outputs": [],
   "source": [
    "d = {\"name\": \"root\",\n",
    "\"children\": []}"
   ]
  },
  {
   "cell_type": "code",
   "execution_count": 9,
   "metadata": {
    "collapsed": false
   },
   "outputs": [],
   "source": [
    "levels = [\"l1\",\"l2\", \"l3\"]\n",
    "for row in df.iterrows():\n",
    "    r = row[1]\n",
    "    path = list(r[levels])\n",
    "    value = r[\"val\"]\n",
    "    add_node(path,value,d)"
   ]
  },
  {
   "cell_type": "code",
   "execution_count": 10,
   "metadata": {
    "collapsed": false
   },
   "outputs": [],
   "source": [
    "#print json.dumps(d, sort_keys=False, indent=2)"
   ]
  },
  {
   "cell_type": "code",
   "execution_count": 11,
   "metadata": {
    "collapsed": true
   },
   "outputs": [],
   "source": [
    "#Now create this for the real data\n",
    "import sqlite3\n",
    "conn = sqlite3.connect(r\"C:\\Users\\robin_000\\Desktop\\HMRCTradeDataParser\\website\\trade_data.db\")\n"
   ]
  },
  {
   "cell_type": "code",
   "execution_count": 12,
   "metadata": {
    "collapsed": false
   },
   "outputs": [],
   "source": [
    "sql = \"\"\"\n",
    "select code8,code6,code4,code2, mk_commodity_alpha_all as desc8, l6.desc as desc6, l4.desc as desc4, l2.desc as desc2, quantity from \n",
    "\n",
    "(select product_code as code8, \n",
    "substr(product_code,1,6) as code6,\n",
    "substr(product_code,1,4) as code4,\n",
    "substr(product_code,1,2) as code2,\n",
    "sum(quantity) as quantity\n",
    "from der_imports_country_products_port_month_8\n",
    "where year = 2014\n",
    "group by product_code) as s\n",
    "\n",
    "left join eightdigitcodes as l8\n",
    "on s.code8 = l8.mk_comcode8\n",
    "\n",
    "left join lookup_codes_6 as l6\n",
    "on s.code6 = l6.code\n",
    "\n",
    "left join lookup_codes_4 as l4\n",
    "on s.code4 = l4.code\n",
    "\n",
    "left join lookup_codes_2 as l2\n",
    "on s.code2 = l2.code\n",
    "\"\"\"\n",
    "\n",
    "df_all = pd.read_sql(sql, conn)"
   ]
  },
  {
   "cell_type": "code",
   "execution_count": 16,
   "metadata": {
    "collapsed": false
   },
   "outputs": [],
   "source": [
    "d_all = {\"name\": \"root\",\n",
    "\"children\": []}\n",
    "\n",
    "levels = [\"code2\",\"code4\", \"code6\", \"code8\"]\n",
    "for row in df_all.iterrows():\n",
    "    r = row[1]\n",
    "    path = list(r[levels])\n",
    "    value = r[\"quantity\"]\n",
    "    add_node(path,value,d_all)"
   ]
  },
  {
   "cell_type": "code",
   "execution_count": 20,
   "metadata": {
    "collapsed": false
   },
   "outputs": [],
   "source": [
    "import json\n",
    "with open('data.txt', 'w') as outfile:\n",
    "    #json.dump(d_all, outfile, sort_keys=False, indent=2)\n",
    "    json.dump(d_all, outfile)\n"
   ]
  },
  {
   "cell_type": "code",
   "execution_count": null,
   "metadata": {
    "collapsed": true
   },
   "outputs": [],
   "source": []
  }
 ],
 "metadata": {
  "kernelspec": {
   "display_name": "Python 2",
   "language": "python",
   "name": "python2"
  },
  "language_info": {
   "codemirror_mode": {
    "name": "ipython",
    "version": 2
   },
   "file_extension": ".py",
   "mimetype": "text/x-python",
   "name": "python",
   "nbconvert_exporter": "python",
   "pygments_lexer": "ipython2",
   "version": "2.7.10"
  }
 },
 "nbformat": 4,
 "nbformat_minor": 0
}
