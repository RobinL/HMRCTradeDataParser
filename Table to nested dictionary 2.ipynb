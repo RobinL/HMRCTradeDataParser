{
 "cells": [
  {
   "cell_type": "code",
   "execution_count": 1,
   "metadata": {
    "collapsed": true
   },
   "outputs": [],
   "source": [
    "import pandas as pd"
   ]
  },
  {
   "cell_type": "code",
   "execution_count": 6,
   "metadata": {
    "collapsed": false
   },
   "outputs": [
    {
     "data": {
      "text/html": [
       "<div>\n",
       "<table border=\"1\" class=\"dataframe\">\n",
       "  <thead>\n",
       "    <tr style=\"text-align: right;\">\n",
       "      <th></th>\n",
       "      <th>l1</th>\n",
       "      <th>l2</th>\n",
       "      <th>l3</th>\n",
       "      <th>val</th>\n",
       "    </tr>\n",
       "  </thead>\n",
       "  <tbody>\n",
       "    <tr>\n",
       "      <th>0</th>\n",
       "      <td>1</td>\n",
       "      <td>11</td>\n",
       "      <td>111</td>\n",
       "      <td>0.5</td>\n",
       "    </tr>\n",
       "    <tr>\n",
       "      <th>1</th>\n",
       "      <td>1</td>\n",
       "      <td>11</td>\n",
       "      <td>112</td>\n",
       "      <td>0.5</td>\n",
       "    </tr>\n",
       "    <tr>\n",
       "      <th>2</th>\n",
       "      <td>1</td>\n",
       "      <td>12</td>\n",
       "      <td>121</td>\n",
       "      <td>0.5</td>\n",
       "    </tr>\n",
       "    <tr>\n",
       "      <th>3</th>\n",
       "      <td>1</td>\n",
       "      <td>12</td>\n",
       "      <td>122</td>\n",
       "      <td>0.5</td>\n",
       "    </tr>\n",
       "    <tr>\n",
       "      <th>4</th>\n",
       "      <td>2</td>\n",
       "      <td>21</td>\n",
       "      <td>211</td>\n",
       "      <td>0.5</td>\n",
       "    </tr>\n",
       "    <tr>\n",
       "      <th>5</th>\n",
       "      <td>2</td>\n",
       "      <td>21</td>\n",
       "      <td>212</td>\n",
       "      <td>0.5</td>\n",
       "    </tr>\n",
       "    <tr>\n",
       "      <th>6</th>\n",
       "      <td>2</td>\n",
       "      <td>22</td>\n",
       "      <td>222</td>\n",
       "      <td>0.5</td>\n",
       "    </tr>\n",
       "    <tr>\n",
       "      <th>7</th>\n",
       "      <td>2</td>\n",
       "      <td>23</td>\n",
       "      <td>234</td>\n",
       "      <td>0.5</td>\n",
       "    </tr>\n",
       "  </tbody>\n",
       "</table>\n",
       "</div>"
      ],
      "text/plain": [
       "   l1  l2   l3  val\n",
       "0   1  11  111  0.5\n",
       "1   1  11  112  0.5\n",
       "2   1  12  121  0.5\n",
       "3   1  12  122  0.5\n",
       "4   2  21  211  0.5\n",
       "5   2  21  212  0.5\n",
       "6   2  22  222  0.5\n",
       "7   2  23  234  0.5"
      ]
     },
     "execution_count": 6,
     "metadata": {},
     "output_type": "execute_result"
    }
   ],
   "source": [
    "df = pd.read_json('{\"l1\":{\"0\":1,\"1\":1,\"2\":1,\"3\":1,\"4\":2,\"5\":2,\"6\":2,\"7\":2},\"l2\":{\"0\":11,\"1\":11,\"2\":12,\"3\":12,\"4\":21,\"5\":21,\"6\":22,\"7\":23},\"l3\":{\"0\":111,\"1\":112,\"2\":121,\"3\":122,\"4\":211,\"5\":212,\"6\":222,\"7\":234},\"val\":{\"0\":0.5,\"1\":0.5,\"2\":0.5,\"3\":0.5,\"4\":0.5,\"5\":0.5,\"6\":0.5,\"7\":0.5}}')\n",
    "df"
   ]
  },
  {
   "cell_type": "code",
   "execution_count": 91,
   "metadata": {
    "collapsed": true
   },
   "outputs": [],
   "source": [
    "d = {\"name\": \"root\",\n",
    "\"children\": []}"
   ]
  },
  {
   "cell_type": "code",
   "execution_count": 11,
   "metadata": {
    "collapsed": false
   },
   "outputs": [],
   "source": [
    "def find_element(children_list,name):\n",
    "    #Return element\n",
    "    \n",
    "    print \"Trying to find {} in {}\".format(name,children_list)\n",
    "    for i in children_list:\n",
    "        if i[\"name\"] == name:\n",
    "            return i\n",
    "    #If not found return None\n",
    "    return None\n",
    "\n",
    "def add_node(path,value,nest):\n",
    "    \"\"\"\n",
    "    The path is a list.  Each element is a name that corresponds \n",
    "    to a level in the final nested dictionary.  \n",
    "    \"\"\"\n",
    "\n",
    "    #Get first name from path\n",
    "    this_name = path.pop(0)\n",
    "    \n",
    "    #Does the element exist already?\n",
    "    element = find_element(nest[\"children\"], this_name)\n",
    "    \n",
    "    #If the element exists, we can use it, otherwise we need to create a new one\n",
    "    if element:\n",
    "        \n",
    "        if len(path)>0:\n",
    "            add_node(path,value, element)\n",
    "        \n",
    "    #Else it does not exist so create it and return its children\n",
    "    else:\n",
    "        \n",
    "        if len(path) == 0:\n",
    "            nest[\"children\"].append({\"name\": this_name, \"value\": value})\n",
    "        else:\n",
    "            #Add new element\n",
    "            nest[\"children\"].append({\"name\": this_name, \"children\":[]})\n",
    "            \n",
    "            #Get added element \n",
    "            element = nest[\"children\"][-1]\n",
    "            \n",
    "            #Still elements of path left so recurse\n",
    "            add_node(path,value, element)\n",
    "    "
   ]
  },
  {
   "cell_type": "code",
   "execution_count": 16,
   "metadata": {
    "collapsed": false
   },
   "outputs": [
    {
     "name": "stdout",
     "output_type": "stream",
     "text": [
      "Trying to find a in []\n",
      "Trying to find b in []\n",
      "Trying to find c in []\n",
      "Trying to find a in [{'name': 'a', 'children': [{'name': 'b', 'children': [{'name': 'c', 'value': 10}]}]}]\n",
      "Trying to find b in [{'name': 'b', 'children': [{'name': 'c', 'value': 10}]}]\n",
      "Trying to find d in [{'name': 'c', 'value': 10}]\n",
      "Trying to find a in [{'name': 'a', 'children': [{'name': 'b', 'children': [{'name': 'c', 'value': 10}, {'name': 'd', 'value': 5}]}]}]\n",
      "Trying to find c in [{'name': 'b', 'children': [{'name': 'c', 'value': 10}, {'name': 'd', 'value': 5}]}]\n"
     ]
    }
   ],
   "source": [
    "d = {\"name\": \"root\",\n",
    "\"children\": []}\n",
    "add_node([\"a\",\"b\",\"c\"],10,d)\n",
    "add_node([\"a\",\"b\",\"d\"],5, d)\n",
    "add_node([\"a\",\"c\"],5, d)"
   ]
  },
  {
   "cell_type": "code",
   "execution_count": 17,
   "metadata": {
    "collapsed": false
   },
   "outputs": [
    {
     "name": "stdout",
     "output_type": "stream",
     "text": [
      "{\n",
      "  \"name\": \"root\", \n",
      "  \"children\": [\n",
      "    {\n",
      "      \"name\": \"a\", \n",
      "      \"children\": [\n",
      "        {\n",
      "          \"name\": \"b\", \n",
      "          \"children\": [\n",
      "            {\n",
      "              \"name\": \"c\", \n",
      "              \"value\": 10\n",
      "            }, \n",
      "            {\n",
      "              \"name\": \"d\", \n",
      "              \"value\": 5\n",
      "            }\n",
      "          ]\n",
      "        }, \n",
      "        {\n",
      "          \"name\": \"c\", \n",
      "          \"value\": 5\n",
      "        }\n",
      "      ]\n",
      "    }\n",
      "  ]\n",
      "}\n"
     ]
    }
   ],
   "source": [
    "import json\n",
    "\n",
    "print json.dumps(d, sort_keys=False,\n",
    "                  indent=2)"
   ]
  },
  {
   "cell_type": "code",
   "execution_count": null,
   "metadata": {
    "collapsed": true
   },
   "outputs": [],
   "source": []
  },
  {
   "cell_type": "code",
   "execution_count": null,
   "metadata": {
    "collapsed": true
   },
   "outputs": [],
   "source": []
  }
 ],
 "metadata": {
  "kernelspec": {
   "display_name": "Python 2",
   "language": "python",
   "name": "python2"
  },
  "language_info": {
   "codemirror_mode": {
    "name": "ipython",
    "version": 2
   },
   "file_extension": ".py",
   "mimetype": "text/x-python",
   "name": "python",
   "nbconvert_exporter": "python",
   "pygments_lexer": "ipython2",
   "version": "2.7.10"
  }
 },
 "nbformat": 4,
 "nbformat_minor": 0
}
