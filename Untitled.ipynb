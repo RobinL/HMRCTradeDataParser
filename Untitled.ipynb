{
 "cells": [
  {
   "cell_type": "code",
   "execution_count": 1,
   "metadata": {
    "collapsed": true
   },
   "outputs": [],
   "source": [
    "import pandas as pd"
   ]
  },
  {
   "cell_type": "code",
   "execution_count": 17,
   "metadata": {
    "collapsed": false
   },
   "outputs": [],
   "source": [
    "[r\"https://www.uktradeinfo.com/Statistics/Documents/{}_{}archive.zip\".format(\"SMKA12\", y) for y in range(2008,2015)]\n",
    "\n",
    "\n",
    "\n",
    "urls = [r\"https://www.uktradeinfo.com/Statistics/Documents/{}_{}archive.zip\" \\\n",
    "        .format(\"SMKA12\", y) for y in range(2008,2015)]"
   ]
  },
  {
   "cell_type": "code",
   "execution_count": 3,
   "metadata": {
    "collapsed": true
   },
   "outputs": [],
   "source": [
    "from StringIO import StringIO\n",
    "from zipfile import ZipFile\n",
    "from urllib import urlopen"
   ]
  },
  {
   "cell_type": "code",
   "execution_count": 4,
   "metadata": {
    "collapsed": true
   },
   "outputs": [],
   "source": [
    "def unzip_url(url):\n",
    "    url = urlopen(url)\n",
    "    zipfile = ZipFile(StringIO(url.read()))\n",
    "    return zipfile"
   ]
  },
  {
   "cell_type": "code",
   "execution_count": 30,
   "metadata": {
    "collapsed": true
   },
   "outputs": [],
   "source": [
    "zip_file = unzip_url(r\"https://www.uktradeinfo.com/Statistics/Documents/SMKA12_2008archive.zip\")"
   ]
  },
  {
   "cell_type": "code",
   "execution_count": 31,
   "metadata": {
    "collapsed": false
   },
   "outputs": [],
   "source": [
    "file_list = [f.filename for f in zip_file.filelist]"
   ]
  },
  {
   "cell_type": "code",
   "execution_count": 33,
   "metadata": {
    "collapsed": false
   },
   "outputs": [
    {
     "data": {
      "text/plain": [
       "[{'file_name': 'smka120812',\n",
       "  'month': '08',\n",
       "  'url': 'https://www.uktradeinfo.com/Statistics/Documents/SMKA12_2008archive.zip',\n",
       "  'year': '2008'},\n",
       " {'file_name': 'smka120801',\n",
       "  'month': '08',\n",
       "  'url': 'https://www.uktradeinfo.com/Statistics/Documents/SMKA12_2008archive.zip',\n",
       "  'year': '2008'},\n",
       " {'file_name': 'smka120802',\n",
       "  'month': '08',\n",
       "  'url': 'https://www.uktradeinfo.com/Statistics/Documents/SMKA12_2008archive.zip',\n",
       "  'year': '2008'},\n",
       " {'file_name': 'smka120803',\n",
       "  'month': '08',\n",
       "  'url': 'https://www.uktradeinfo.com/Statistics/Documents/SMKA12_2008archive.zip',\n",
       "  'year': '2008'},\n",
       " {'file_name': 'smka120804',\n",
       "  'month': '08',\n",
       "  'url': 'https://www.uktradeinfo.com/Statistics/Documents/SMKA12_2008archive.zip',\n",
       "  'year': '2008'},\n",
       " {'file_name': 'smka120805',\n",
       "  'month': '08',\n",
       "  'url': 'https://www.uktradeinfo.com/Statistics/Documents/SMKA12_2008archive.zip',\n",
       "  'year': '2008'},\n",
       " {'file_name': 'smka120806',\n",
       "  'month': '08',\n",
       "  'url': 'https://www.uktradeinfo.com/Statistics/Documents/SMKA12_2008archive.zip',\n",
       "  'year': '2008'},\n",
       " {'file_name': 'smka120807',\n",
       "  'month': '08',\n",
       "  'url': 'https://www.uktradeinfo.com/Statistics/Documents/SMKA12_2008archive.zip',\n",
       "  'year': '2008'},\n",
       " {'file_name': 'smka120808',\n",
       "  'month': '08',\n",
       "  'url': 'https://www.uktradeinfo.com/Statistics/Documents/SMKA12_2008archive.zip',\n",
       "  'year': '2008'},\n",
       " {'file_name': 'smka120809',\n",
       "  'month': '08',\n",
       "  'url': 'https://www.uktradeinfo.com/Statistics/Documents/SMKA12_2008archive.zip',\n",
       "  'year': '2008'},\n",
       " {'file_name': 'smka120810',\n",
       "  'month': '08',\n",
       "  'url': 'https://www.uktradeinfo.com/Statistics/Documents/SMKA12_2008archive.zip',\n",
       "  'year': '2008'},\n",
       " {'file_name': 'smka120811',\n",
       "  'month': '08',\n",
       "  'url': 'https://www.uktradeinfo.com/Statistics/Documents/SMKA12_2008archive.zip',\n",
       "  'year': '2008'}]"
      ]
     },
     "execution_count": 33,
     "metadata": {},
     "output_type": "execute_result"
    }
   ],
   "source": [
    "final_files = []\n",
    "for f in file_list:\n",
    "    this_f = {}\n",
    "    this_f[\"file_name\"] = f.replace(\".zip\", \"\")\n",
    "    this_f[\"year\"] = \"20\" + f[-8:-6]\n",
    "    this_f[\"month\"] = f[-8:-6]\n",
    "    this_f[\"url\"] = r\"https://www.uktradeinfo.com/Statistics/Documents/SMKA12_2008archive.zip\"\n",
    "    final_files.append(this_f)\n",
    "    \n",
    "final_files"
   ]
  },
  {
   "cell_type": "code",
   "execution_count": 43,
   "metadata": {
    "collapsed": false
   },
   "outputs": [],
   "source": [
    "from cStringIO import StringIO\n",
    "z = zip_file.open(\"smka120812.zip\")"
   ]
  },
  {
   "cell_type": "code",
   "execution_count": 48,
   "metadata": {
    "collapsed": false
   },
   "outputs": [],
   "source": [
    "import zipfile\n",
    "zfiledata = StringIO(zip_file.read(\"smka120812.zip\"))\n",
    "\n",
    "z2 = zipfile.ZipFile(zfiledata)"
   ]
  },
  {
   "cell_type": "code",
   "execution_count": 49,
   "metadata": {
    "collapsed": false
   },
   "outputs": [
    {
     "data": {
      "text/plain": [
       "<zipfile.ZipExtFile at 0xae0ed30>"
      ]
     },
     "execution_count": 49,
     "metadata": {},
     "output_type": "execute_result"
    }
   ],
   "source": [
    "z2.open(\"smka120812\")"
   ]
  },
  {
   "cell_type": "code",
   "execution_count": null,
   "metadata": {
    "collapsed": true
   },
   "outputs": [],
   "source": []
  }
 ],
 "metadata": {
  "kernelspec": {
   "display_name": "Python 2",
   "language": "python",
   "name": "python2"
  },
  "language_info": {
   "codemirror_mode": {
    "name": "ipython",
    "version": 2
   },
   "file_extension": ".py",
   "mimetype": "text/x-python",
   "name": "python",
   "nbconvert_exporter": "python",
   "pygments_lexer": "ipython2",
   "version": "2.7.6"
  }
 },
 "nbformat": 4,
 "nbformat_minor": 0
}
