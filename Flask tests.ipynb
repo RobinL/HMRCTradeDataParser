{
 "cells": [
  {
   "cell_type": "code",
   "execution_count": 1,
   "metadata": {
    "collapsed": false
   },
   "outputs": [],
   "source": [
    "from flask import Flask\n",
    "from flask.ext.bootstrap import Bootstrap\n",
    "from flask.ext.sqlalchemy import SQLAlchemy\n",
    "from flask.ext.mail import Mail\n",
    "from flask_debugtoolbar import DebugToolbarExtension\n",
    "db = SQLAlchemy()\n",
    "\n",
    "app = Flask(__name__)\n",
    "\n",
    "\n",
    "class Config:\n",
    "    SQLALCHEMY_DATABASE_URI = DATABASE\n",
    "config = Config()\n",
    "    \n",
    "app.config.from_object(config)\n",
    "db.init_app(app)\n",
    "db.app = app"
   ]
  },
  {
   "cell_type": "code",
   "execution_count": 2,
   "metadata": {
    "collapsed": false
   },
   "outputs": [],
   "source": [
    "from flask import jsonify\n",
    "import json"
   ]
  },
  {
   "cell_type": "code",
   "execution_count": 3,
   "metadata": {
    "collapsed": true
   },
   "outputs": [],
   "source": [
    "import json\n",
    "def db_result_to_json_in_d3csv_format(dbresult):\n",
    "\n",
    "    fa = dbresult.fetchall()\n",
    "    k  = dbresult.keys()\n",
    "    k = [word.decode(\"windows-1252\") for word in k]\n",
    "    fa = [[word.decode(\"windows-1252\") for word in sets] for sets in fa]\n",
    "   \n",
    "    \n",
    "    \n",
    "    def to_dict(result_row):\n",
    "        my_tuples = zip(k,result_row)\n",
    "        my_dict = dict((x,y) for x,y in my_tuples)\n",
    "        return my_dict\n",
    "\n",
    "    final = map(to_dict,fa)\n",
    "    return final"
   ]
  },
  {
   "cell_type": "code",
   "execution_count": 4,
   "metadata": {
    "collapsed": false
   },
   "outputs": [],
   "source": [
    "sql = \"\"\"\n",
    "select select_box, my_key, value \n",
    "    from select_box_values\n",
    "    where value like '%trout%'\n",
    "\"\"\"\n",
    "result = db.session.execute(sql)\n",
    "#r = db_result_to_json_in_d3csv_format(result)\n",
    "fa = result.fetchall()\n",
    "k  = result.keys()\n",
    "k = [word.decode(\"windows-1252\") for word in k]\n",
    "fa = [[word.decode(\"windows-1252\") for word in sets] for sets in fa]"
   ]
  },
  {
   "cell_type": "code",
   "execution_count": 5,
   "metadata": {
    "collapsed": false
   },
   "outputs": [
    {
     "data": {
      "text/plain": [
       "[[u'product',\n",
       "  u'03019918',\n",
       "  u'03019918 -  Live freshwater fish (excl. ornamental fish, trout, eels, carp \"Cyprinus carpio, Carassius carassius, Ctenopharyngodon idellus, Hypophthalmichthys spp., Cirrhinus spp., Mylopharyngodon piceus\", Pacific salmon \"Oncorhynchus nerka, Oncorhynchus gorbuscha, Oncorhynchus keta, Oncorhynchus tschawytscha, Oncorhynchus kisutch, Oncorhynchus masou and Oncorhynchus rhodurus\", Atlantic salmon \"Salmo salar\" and Danube salmon \"Hucho hucho\")'],\n",
       " [u'product',\n",
       "  u'03019985',\n",
       "  u'03019985 -  Live saltwater fish (excl. ornamental fish, trout [Salmo trutta, Oncorhynchus mykiss, Oncorhynchus clarki, Oncorhynchus aguabonita, Oncorhynchus gilae, Oncorhynchus apache and Oncorhynchus chrysogaster], eels [Anguilla spp.], Atlantic and Pacific bluefin tunas [Thunnus thynnus, Thunnus orientalis] and southern bluefin tunas [Thunnus maccoyii])'],\n",
       " [u'product',\n",
       "  u'03021110',\n",
       "  u'03021110 -  Fresh or chilled trout \"Oncorhynchus apache and Oncorhynchus chrysogaster\"'],\n",
       " [u'product',\n",
       "  u'03021120',\n",
       "  u'03021120 -  Fresh or chilled trout of the species \"Oncorhynchus mykiss\", with heads on and gills on, gutted, weighing > 1,2 kg each, or with heads off, gilled and gutted, weighing > 1 kg each'],\n",
       " [u'product',\n",
       "  u'03021180',\n",
       "  u'03021180 -  Fresh or chilled trout \"Salmo trutta, Oncorhynchus mykiss, Oncorhynchus clarki, Oncorhynchus aguabonita, Oncorhynchus gilae\" (excl. of the species \"Oncorhynchus mykiss\", with heads on and gills on, gutted, weighing > 1,2 kg each, or with heads off, gilled and gutted, weighing > 1 kg each)'],\n",
       " [u'product',\n",
       "  u'03021900',\n",
       "  u'03021900 -  Fresh or chilled salmonidae (excl. trout \"Salmo trutta, Oncorhynchus mykiss, Oncorhynchus clarki, Oncorhynchus aguabonita, Oncorhynchus gilae, Oncorhynchus apache and Oncorhynchus chrysogaster\", Pacific salmon \"Oncorhynchus nerka, Oncorhynchus gorbuscha, Oncorhynchus keta, Oncorhynchus tschawytscha, Oncorhynchus kisutch, Oncorhynchus masou and Oncorhynchus rhodurus\", Atlantic salmon \"Salmo salar\" and Danube salmon \"Hucho hucho\")'],\n",
       " [u'product',\n",
       "  u'03031420',\n",
       "  u'03031420 -  Frozen trout \"Oncorhynchus mykiss\", with heads and gills on, gutted, weighing more than 1,2\\xa0kg each, or with heads off, gilled and gutted, weighing more than 1\\xa0kg each'],\n",
       " [u'product',\n",
       "  u'03031900',\n",
       "  u'03031900 -  Frozen salmonidae (excl. trout and Pacific, Atlantic and Danube salmon)'],\n",
       " [u'product',\n",
       "  u'03044290',\n",
       "  u'03044290 -  Fresh or chilled fillets of trout \"Salmo trutta, Oncorhynchus mykiss, Oncorhynchus clarki, Oncorhynchus aguabonita and Oncorhynchus gilae\" (excl. of Oncorhynchus mykiss weighing > 400 g each)'],\n",
       " [u'product',\n",
       "  u'03048290',\n",
       "  u'03048290 -  Frozen fillets of trout \"Salmo trutta, Oncorhynchus mykiss, Oncorhynchus clarki, Oncorhynchus aguabonita and Oncorhynchus gilae\" (excl. of Oncorhynchus mykiss weighing > 400 g each)'],\n",
       " [u'product',\n",
       "  u'03054300',\n",
       "  u'03054300 -  Smoked trout \"Salmo trutta, Oncorhynchus mykiss, Oncorhynchus clarki, Oncorhynchus aguabonita, Oncorhynchus gilae, Oncorhynchus apache and Oncorhynchus chrysogaster\", incl. fillets (excl. offal)'],\n",
       " [u'product',\n",
       "  u'03054980',\n",
       "  u'03054980 -  Smoked fish, incl. fillets (excl. offal, Pacific salmon, Atlantic salmon, Danube salmon, herring, lesser or Greenland halibut, Atlantic halibut, mackerel, trout, tilapia, catfish, carp, eels, Nile perch and snakeheads)']]"
      ]
     },
     "execution_count": 5,
     "metadata": {},
     "output_type": "execute_result"
    }
   ],
   "source": [
    "fa"
   ]
  },
  {
   "cell_type": "code",
   "execution_count": 16,
   "metadata": {
    "collapsed": false
   },
   "outputs": [],
   "source": [
    "s = fa[156][2]"
   ]
  },
  {
   "cell_type": "code",
   "execution_count": 17,
   "metadata": {
    "collapsed": false,
    "scrolled": true
   },
   "outputs": [
    {
     "name": "stdout",
     "output_type": "stream",
     "text": [
      "03031420 -  Frozen trout \"Oncorhynchus mykiss\", with heads and gills on, gutted, weighing more than 1,2 kg each, or with heads off, gilled and gutted, weighing more than 1 kg each\n"
     ]
    }
   ],
   "source": [
    "print s.decode(\"windows-1252\")"
   ]
  },
  {
   "cell_type": "code",
   "execution_count": 50,
   "metadata": {
    "collapsed": false
   },
   "outputs": [
    {
     "data": {
      "text/plain": [
       "'[{\"a\": \"1\", \"b\": \"2\"}, {\"a\": \"1\", \"b\": \"2\"}]'"
      ]
     },
     "execution_count": 50,
     "metadata": {},
     "output_type": "execute_result"
    }
   ],
   "source": [
    "json.dumps([{\"a\":\"1\",\"b\":\"2\"},{\"a\":\"1\",\"b\":\"2\"}])"
   ]
  },
  {
   "cell_type": "code",
   "execution_count": 51,
   "metadata": {
    "collapsed": false
   },
   "outputs": [
    {
     "data": {
      "text/plain": [
       "(u'LSA', u'US', u'Pure-bred breeding horses', 152645)"
      ]
     },
     "execution_count": 51,
     "metadata": {},
     "output_type": "execute_result"
    }
   ],
   "source": [
    "a[0]"
   ]
  },
  {
   "cell_type": "code",
   "execution_count": 52,
   "metadata": {
    "collapsed": true
   },
   "outputs": [],
   "source": [
    "k = result.keys()"
   ]
  },
  {
   "cell_type": "code",
   "execution_count": 59,
   "metadata": {
    "collapsed": false
   },
   "outputs": [
    {
     "data": {
      "text/plain": [
       "{u'country': u'US',\n",
       " u'port': u'LSA',\n",
       " u'product': u'Pure-bred breeding horses',\n",
       " u'value': 152645}"
      ]
     },
     "execution_count": 59,
     "metadata": {},
     "output_type": "execute_result"
    }
   ],
   "source": [
    "my_tuples = zip(k,a[0])\n",
    "my_dict = dict((x,y) for x,y in my_tuples)\n",
    "my_dict"
   ]
  },
  {
   "cell_type": "code",
   "execution_count": 64,
   "metadata": {
    "collapsed": false
   },
   "outputs": [
    {
     "data": {
      "text/plain": [
       "'[{\"country\": \"US\", \"product\": \"Pure-bred breeding horses\", \"port\": \"LSA\", \"value\": 152645}, {\"country\": \"US\", \"product\": \"Pure-bred breeding horses\", \"port\": \"LSA\", \"value\": 152645}, {\"country\": \"US\", \"product\": \"Pure-bred breeding horses\", \"port\": \"LSA\", \"value\": 152645}, {\"country\": \"US\", \"product\": \"Pure-bred breeding horses\", \"port\": \"LSA\", \"value\": 152645}, {\"country\": \"US\", \"product\": \"Pure-bred breeding horses\", \"port\": \"LSA\", \"value\": 152645}, {\"country\": \"US\", \"product\": \"Pure-bred breeding horses\", \"port\": \"LSA\", \"value\": 152645}, {\"country\": \"US\", \"product\": \"Pure-bred breeding horses\", \"port\": \"LSA\", \"value\": 152645}, {\"country\": \"US\", \"product\": \"Pure-bred breeding horses\", \"port\": \"LSA\", \"value\": 152645}, {\"country\": \"US\", \"product\": \"Pure-bred breeding horses\", \"port\": \"LSA\", \"value\": 152645}]'"
      ]
     },
     "execution_count": 64,
     "metadata": {},
     "output_type": "execute_result"
    }
   ],
   "source": [
    "def to_dict(result_row):\n",
    "    my_tuples = zip(k,a[0])\n",
    "    my_dict = dict((x,y) for x,y in my_tuples)\n",
    "    return my_dict\n",
    "\n",
    "final = map(to_dict,a)\n",
    "json.dumps(final)\n"
   ]
  },
  {
   "cell_type": "code",
   "execution_count": null,
   "metadata": {
    "collapsed": true
   },
   "outputs": [],
   "source": []
  }
 ],
 "metadata": {
  "kernelspec": {
   "display_name": "Python 2",
   "language": "python",
   "name": "python2"
  },
  "language_info": {
   "codemirror_mode": {
    "name": "ipython",
    "version": 2
   },
   "file_extension": ".py",
   "mimetype": "text/x-python",
   "name": "python",
   "nbconvert_exporter": "python",
   "pygments_lexer": "ipython2",
   "version": "2.7.6"
  }
 },
 "nbformat": 4,
 "nbformat_minor": 0
}
