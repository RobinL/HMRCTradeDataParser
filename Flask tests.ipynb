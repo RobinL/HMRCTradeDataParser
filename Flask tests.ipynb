{
 "cells": [
  {
   "cell_type": "code",
   "execution_count": 42,
   "metadata": {
    "collapsed": false
   },
   "outputs": [],
   "source": [
    "from flask import Flask\n",
    "from flask.ext.bootstrap import Bootstrap\n",
    "from flask.ext.sqlalchemy import SQLAlchemy\n",
    "from flask.ext.mail import Mail\n",
    "from flask_debugtoolbar import DebugToolbarExtension\n",
    "db = SQLAlchemy()\n",
    "DATABASE = r\"sqlite:///C:\\Users\\Robin\\Desktop\\trade_data\\trade_data.db\"\n",
    "app = Flask(__name__)\n",
    "\n",
    "\n",
    "class Config:\n",
    "    SQLALCHEMY_DATABASE_URI = DATABASE\n",
    "config = Config()\n",
    "    \n",
    "app.config.from_object(config)\n",
    "db.init_app(app)\n",
    "db.app = app"
   ]
  },
  {
   "cell_type": "code",
   "execution_count": 43,
   "metadata": {
    "collapsed": false
   },
   "outputs": [],
   "source": [
    "sql = \"\"\"\n",
    "\n",
    "select maf_port_alpha as port, maf_coo_alpha as country, mk_commodity_alpha_all as product, cast(maf_value as integer) as value from \n",
    "imports as i\n",
    "left join eightdigitcodes as e\n",
    "on i.maf_comcode8 = e.mk_comcode8\n",
    "where i.maf_comcode8 = \"01012100\"\n",
    "\"\"\"\n",
    "result = db.session.execute(sql)\n"
   ]
  },
  {
   "cell_type": "code",
   "execution_count": 40,
   "metadata": {
    "collapsed": false
   },
   "outputs": [
    {
     "data": {
      "text/plain": [
       "[(u'LSA', u'US', u'Pure-bred breeding horses', 152645),\n",
       " (u'ZLC', u'US', u'Pure-bred breeding horses', 2633),\n",
       " (u'ZLC', u'US', u'Pure-bred breeding horses', 19215),\n",
       " (u'LSA', u'AR', u'Pure-bred breeding horses', 111602),\n",
       " (u'LSA', u'AR', u'Pure-bred breeding horses', 17900),\n",
       " (u'LHR', u'AE', u'Pure-bred breeding horses', 52700),\n",
       " (u'LHR', u'AE', u'Pure-bred breeding horses', 26000),\n",
       " (u'LSA', u'AE', u'Pure-bred breeding horses', 403488),\n",
       " (u'LHR', u'NZ', u'Pure-bred breeding horses', 72031)]"
      ]
     },
     "execution_count": 40,
     "metadata": {},
     "output_type": "execute_result"
    }
   ],
   "source": [
    "result.fetchall()"
   ]
  },
  {
   "cell_type": "code",
   "execution_count": 25,
   "metadata": {
    "collapsed": false
   },
   "outputs": [
    {
     "data": {
      "text/plain": [
       "[u'port', u'country', u'product', u'value']"
      ]
     },
     "execution_count": 25,
     "metadata": {},
     "output_type": "execute_result"
    }
   ],
   "source": [
    "result.keys()"
   ]
  },
  {
   "cell_type": "code",
   "execution_count": 44,
   "metadata": {
    "collapsed": false
   },
   "outputs": [],
   "source": [
    "#Want to replicate the csv format\n",
    "\n",
    "import json\n",
    "a  = result.fetchall()"
   ]
  },
  {
   "cell_type": "code",
   "execution_count": 50,
   "metadata": {
    "collapsed": false
   },
   "outputs": [
    {
     "data": {
      "text/plain": [
       "'[{\"a\": \"1\", \"b\": \"2\"}, {\"a\": \"1\", \"b\": \"2\"}]'"
      ]
     },
     "execution_count": 50,
     "metadata": {},
     "output_type": "execute_result"
    }
   ],
   "source": [
    "json.dumps([{\"a\":\"1\",\"b\":\"2\"},{\"a\":\"1\",\"b\":\"2\"}])"
   ]
  },
  {
   "cell_type": "code",
   "execution_count": 51,
   "metadata": {
    "collapsed": false
   },
   "outputs": [
    {
     "data": {
      "text/plain": [
       "(u'LSA', u'US', u'Pure-bred breeding horses', 152645)"
      ]
     },
     "execution_count": 51,
     "metadata": {},
     "output_type": "execute_result"
    }
   ],
   "source": [
    "a[0]"
   ]
  },
  {
   "cell_type": "code",
   "execution_count": 52,
   "metadata": {
    "collapsed": true
   },
   "outputs": [],
   "source": [
    "k = result.keys()"
   ]
  },
  {
   "cell_type": "code",
   "execution_count": 59,
   "metadata": {
    "collapsed": false
   },
   "outputs": [
    {
     "data": {
      "text/plain": [
       "{u'country': u'US',\n",
       " u'port': u'LSA',\n",
       " u'product': u'Pure-bred breeding horses',\n",
       " u'value': 152645}"
      ]
     },
     "execution_count": 59,
     "metadata": {},
     "output_type": "execute_result"
    }
   ],
   "source": [
    "my_tuples = zip(k,a[0])\n",
    "my_dict = dict((x,y) for x,y in my_tuples)\n",
    "my_dict"
   ]
  },
  {
   "cell_type": "code",
   "execution_count": 64,
   "metadata": {
    "collapsed": false
   },
   "outputs": [
    {
     "data": {
      "text/plain": [
       "'[{\"country\": \"US\", \"product\": \"Pure-bred breeding horses\", \"port\": \"LSA\", \"value\": 152645}, {\"country\": \"US\", \"product\": \"Pure-bred breeding horses\", \"port\": \"LSA\", \"value\": 152645}, {\"country\": \"US\", \"product\": \"Pure-bred breeding horses\", \"port\": \"LSA\", \"value\": 152645}, {\"country\": \"US\", \"product\": \"Pure-bred breeding horses\", \"port\": \"LSA\", \"value\": 152645}, {\"country\": \"US\", \"product\": \"Pure-bred breeding horses\", \"port\": \"LSA\", \"value\": 152645}, {\"country\": \"US\", \"product\": \"Pure-bred breeding horses\", \"port\": \"LSA\", \"value\": 152645}, {\"country\": \"US\", \"product\": \"Pure-bred breeding horses\", \"port\": \"LSA\", \"value\": 152645}, {\"country\": \"US\", \"product\": \"Pure-bred breeding horses\", \"port\": \"LSA\", \"value\": 152645}, {\"country\": \"US\", \"product\": \"Pure-bred breeding horses\", \"port\": \"LSA\", \"value\": 152645}]'"
      ]
     },
     "execution_count": 64,
     "metadata": {},
     "output_type": "execute_result"
    }
   ],
   "source": [
    "def to_dict(result_row):\n",
    "    my_tuples = zip(k,a[0])\n",
    "    my_dict = dict((x,y) for x,y in my_tuples)\n",
    "    return my_dict\n",
    "\n",
    "final = map(to_dict,a)\n",
    "json.dumps(final)\n"
   ]
  },
  {
   "cell_type": "code",
   "execution_count": null,
   "metadata": {
    "collapsed": true
   },
   "outputs": [],
   "source": []
  }
 ],
 "metadata": {
  "kernelspec": {
   "display_name": "Python 2",
   "language": "python",
   "name": "python2"
  },
  "language_info": {
   "codemirror_mode": {
    "name": "ipython",
    "version": 2
   },
   "file_extension": ".py",
   "mimetype": "text/x-python",
   "name": "python",
   "nbconvert_exporter": "python",
   "pygments_lexer": "ipython2",
   "version": "2.7.6"
  }
 },
 "nbformat": 4,
 "nbformat_minor": 0
}
