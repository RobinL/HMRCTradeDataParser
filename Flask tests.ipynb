{
 "cells": [
  {
   "cell_type": "code",
   "execution_count": 4,
   "metadata": {
    "collapsed": false
   },
   "outputs": [],
   "source": [
    "from flask import Flask\n",
    "from flask.ext.bootstrap import Bootstrap\n",
    "from flask.ext.sqlalchemy import SQLAlchemy\n",
    "from flask.ext.mail import Mail\n",
    "from flask_debugtoolbar import DebugToolbarExtension\n",
    "db = SQLAlchemy()\n",
    "DATABASE = r\"sqlite:///C:\\Users\\Robin\\Desktop\\trade_data\\trade_data.db\"\n",
    "app = Flask(__name__)\n",
    "\n",
    "\n",
    "class Config:\n",
    "    SQLALCHEMY_DATABASE_URI = DATABASE\n",
    "config = Config()\n",
    "    \n",
    "app.config.from_object(config)\n",
    "db.init_app(app)\n",
    "db.app = app"
   ]
  },
  {
   "cell_type": "code",
   "execution_count": 5,
   "metadata": {
    "collapsed": false
   },
   "outputs": [
    {
     "ename": "NameError",
     "evalue": "name 'Base' is not defined",
     "output_type": "error",
     "traceback": [
      "\u001b[1;31m---------------------------------------------------------------------------\u001b[0m",
      "\u001b[1;31mNameError\u001b[0m                                 Traceback (most recent call last)",
      "\u001b[1;32m<ipython-input-5-67ecb0ecf3bf>\u001b[0m in \u001b[0;36m<module>\u001b[1;34m()\u001b[0m\n\u001b[0;32m      1\u001b[0m \u001b[1;33m\u001b[0m\u001b[0m\n\u001b[1;32m----> 2\u001b[1;33m \u001b[1;32mclass\u001b[0m \u001b[0mEightDigitCode\u001b[0m\u001b[1;33m(\u001b[0m\u001b[0mBase\u001b[0m\u001b[1;33m)\u001b[0m\u001b[1;33m:\u001b[0m\u001b[1;33m\u001b[0m\u001b[0m\n\u001b[0m\u001b[0;32m      3\u001b[0m     \u001b[0m__tablename__\u001b[0m \u001b[1;33m=\u001b[0m \u001b[1;34m\"eightdigitcodes\"\u001b[0m\u001b[1;33m\u001b[0m\u001b[0m\n\u001b[0;32m      4\u001b[0m \u001b[1;33m\u001b[0m\u001b[0m\n\u001b[0;32m      5\u001b[0m     \u001b[0mid\u001b[0m \u001b[1;33m=\u001b[0m \u001b[0mColumn\u001b[0m\u001b[1;33m(\u001b[0m\u001b[0mInteger\u001b[0m\u001b[1;33m,\u001b[0m\u001b[0mprimary_key\u001b[0m \u001b[1;33m=\u001b[0m \u001b[0mTrue\u001b[0m\u001b[1;33m)\u001b[0m\u001b[1;33m\u001b[0m\u001b[0m\n",
      "\u001b[1;31mNameError\u001b[0m: name 'Base' is not defined"
     ]
    }
   ],
   "source": []
  },
  {
   "cell_type": "code",
   "execution_count": 2,
   "metadata": {
    "collapsed": false
   },
   "outputs": [],
   "source": [
    "sql = \"\"\"\n",
    "\n",
    "select maf_port_alpha as port, maf_coo_alpha as country, mk_commodity_alpha_all as product, cast(maf_value as integer) as value from \n",
    "imports as i\n",
    "left join eightdigitcodes as e\n",
    "on i.maf_comcode8 = e.mk_comcode8\n",
    "where i.maf_comcode8 = \"01012100\"\n",
    "\"\"\"\n",
    "result = db.session.execute(sql)\n"
   ]
  },
  {
   "cell_type": "code",
   "execution_count": 3,
   "metadata": {
    "collapsed": false
   },
   "outputs": [
    {
     "data": {
      "text/plain": [
       "[(u'ZLC', u'NO', u'Pure-bred breeding horses', 1308),\n",
       " (u'PIK', u'CA', u'Pure-bred breeding horses', 6417),\n",
       " (u'LSA', u'AR', u'Pure-bred breeding horses', 26430),\n",
       " (u'LSA', u'GB', u'Pure-bred breeding horses', 11566),\n",
       " (u'LSA', u'US', u'Pure-bred breeding horses', 100467),\n",
       " (u'ZLC', u'US', u'Pure-bred breeding horses', 104592),\n",
       " (u'PIK', u'CA', u'Pure-bred breeding horses', 5929),\n",
       " (u'LSA', u'AR', u'Pure-bred breeding horses', 22869),\n",
       " (u'LHR', u'AE', u'Pure-bred breeding horses', 349630),\n",
       " (u'ZLC', u'JP', u'Pure-bred breeding horses', 681158),\n",
       " (u'LHR', u'AU', u'Pure-bred breeding horses', 290240)]"
      ]
     },
     "execution_count": 3,
     "metadata": {},
     "output_type": "execute_result"
    }
   ],
   "source": [
    "result.fetchall()"
   ]
  },
  {
   "cell_type": "code",
   "execution_count": 25,
   "metadata": {
    "collapsed": false
   },
   "outputs": [
    {
     "data": {
      "text/plain": [
       "[u'port', u'country', u'product', u'value']"
      ]
     },
     "execution_count": 25,
     "metadata": {},
     "output_type": "execute_result"
    }
   ],
   "source": [
    "result.keys()"
   ]
  },
  {
   "cell_type": "code",
   "execution_count": 44,
   "metadata": {
    "collapsed": false
   },
   "outputs": [],
   "source": [
    "#Want to replicate the csv format\n",
    "\n",
    "import json\n",
    "a  = result.fetchall()"
   ]
  },
  {
   "cell_type": "code",
   "execution_count": 50,
   "metadata": {
    "collapsed": false
   },
   "outputs": [
    {
     "data": {
      "text/plain": [
       "'[{\"a\": \"1\", \"b\": \"2\"}, {\"a\": \"1\", \"b\": \"2\"}]'"
      ]
     },
     "execution_count": 50,
     "metadata": {},
     "output_type": "execute_result"
    }
   ],
   "source": [
    "json.dumps([{\"a\":\"1\",\"b\":\"2\"},{\"a\":\"1\",\"b\":\"2\"}])"
   ]
  },
  {
   "cell_type": "code",
   "execution_count": 51,
   "metadata": {
    "collapsed": false
   },
   "outputs": [
    {
     "data": {
      "text/plain": [
       "(u'LSA', u'US', u'Pure-bred breeding horses', 152645)"
      ]
     },
     "execution_count": 51,
     "metadata": {},
     "output_type": "execute_result"
    }
   ],
   "source": [
    "a[0]"
   ]
  },
  {
   "cell_type": "code",
   "execution_count": 52,
   "metadata": {
    "collapsed": true
   },
   "outputs": [],
   "source": [
    "k = result.keys()"
   ]
  },
  {
   "cell_type": "code",
   "execution_count": 59,
   "metadata": {
    "collapsed": false
   },
   "outputs": [
    {
     "data": {
      "text/plain": [
       "{u'country': u'US',\n",
       " u'port': u'LSA',\n",
       " u'product': u'Pure-bred breeding horses',\n",
       " u'value': 152645}"
      ]
     },
     "execution_count": 59,
     "metadata": {},
     "output_type": "execute_result"
    }
   ],
   "source": [
    "my_tuples = zip(k,a[0])\n",
    "my_dict = dict((x,y) for x,y in my_tuples)\n",
    "my_dict"
   ]
  },
  {
   "cell_type": "code",
   "execution_count": 64,
   "metadata": {
    "collapsed": false
   },
   "outputs": [
    {
     "data": {
      "text/plain": [
       "'[{\"country\": \"US\", \"product\": \"Pure-bred breeding horses\", \"port\": \"LSA\", \"value\": 152645}, {\"country\": \"US\", \"product\": \"Pure-bred breeding horses\", \"port\": \"LSA\", \"value\": 152645}, {\"country\": \"US\", \"product\": \"Pure-bred breeding horses\", \"port\": \"LSA\", \"value\": 152645}, {\"country\": \"US\", \"product\": \"Pure-bred breeding horses\", \"port\": \"LSA\", \"value\": 152645}, {\"country\": \"US\", \"product\": \"Pure-bred breeding horses\", \"port\": \"LSA\", \"value\": 152645}, {\"country\": \"US\", \"product\": \"Pure-bred breeding horses\", \"port\": \"LSA\", \"value\": 152645}, {\"country\": \"US\", \"product\": \"Pure-bred breeding horses\", \"port\": \"LSA\", \"value\": 152645}, {\"country\": \"US\", \"product\": \"Pure-bred breeding horses\", \"port\": \"LSA\", \"value\": 152645}, {\"country\": \"US\", \"product\": \"Pure-bred breeding horses\", \"port\": \"LSA\", \"value\": 152645}]'"
      ]
     },
     "execution_count": 64,
     "metadata": {},
     "output_type": "execute_result"
    }
   ],
   "source": [
    "def to_dict(result_row):\n",
    "    my_tuples = zip(k,a[0])\n",
    "    my_dict = dict((x,y) for x,y in my_tuples)\n",
    "    return my_dict\n",
    "\n",
    "final = map(to_dict,a)\n",
    "json.dumps(final)\n"
   ]
  },
  {
   "cell_type": "code",
   "execution_count": null,
   "metadata": {
    "collapsed": true
   },
   "outputs": [],
   "source": []
  }
 ],
 "metadata": {
  "kernelspec": {
   "display_name": "Python 2",
   "language": "python",
   "name": "python2"
  },
  "language_info": {
   "codemirror_mode": {
    "name": "ipython",
    "version": 2
   },
   "file_extension": ".py",
   "mimetype": "text/x-python",
   "name": "python",
   "nbconvert_exporter": "python",
   "pygments_lexer": "ipython2",
   "version": "2.7.6"
  }
 },
 "nbformat": 4,
 "nbformat_minor": 0
}
