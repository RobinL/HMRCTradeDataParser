{
 "cells": [
  {
   "cell_type": "code",
   "execution_count": 1,
   "metadata": {
    "collapsed": true
   },
   "outputs": [],
   "source": [
    "import pandas as pd"
   ]
  },
  {
   "cell_type": "code",
   "execution_count": 2,
   "metadata": {
    "collapsed": false
   },
   "outputs": [
    {
     "data": {
      "text/html": [
       "<div>\n",
       "<table border=\"1\" class=\"dataframe\">\n",
       "  <thead>\n",
       "    <tr style=\"text-align: right;\">\n",
       "      <th></th>\n",
       "      <th>l1</th>\n",
       "      <th>l2</th>\n",
       "      <th>l3</th>\n",
       "      <th>val</th>\n",
       "    </tr>\n",
       "  </thead>\n",
       "  <tbody>\n",
       "    <tr>\n",
       "      <th>0</th>\n",
       "      <td>a</td>\n",
       "      <td>a1</td>\n",
       "      <td>a11</td>\n",
       "      <td>1</td>\n",
       "    </tr>\n",
       "    <tr>\n",
       "      <th>1</th>\n",
       "      <td>a</td>\n",
       "      <td>a1</td>\n",
       "      <td>a12</td>\n",
       "      <td>2</td>\n",
       "    </tr>\n",
       "    <tr>\n",
       "      <th>2</th>\n",
       "      <td>a</td>\n",
       "      <td>a2</td>\n",
       "      <td>a21</td>\n",
       "      <td>3</td>\n",
       "    </tr>\n",
       "    <tr>\n",
       "      <th>3</th>\n",
       "      <td>a</td>\n",
       "      <td>a2</td>\n",
       "      <td>a22</td>\n",
       "      <td>4</td>\n",
       "    </tr>\n",
       "    <tr>\n",
       "      <th>4</th>\n",
       "      <td>b</td>\n",
       "      <td>b1</td>\n",
       "      <td>b11</td>\n",
       "      <td>5</td>\n",
       "    </tr>\n",
       "    <tr>\n",
       "      <th>5</th>\n",
       "      <td>b</td>\n",
       "      <td>b1</td>\n",
       "      <td>b12</td>\n",
       "      <td>6</td>\n",
       "    </tr>\n",
       "    <tr>\n",
       "      <th>6</th>\n",
       "      <td>b</td>\n",
       "      <td>b2</td>\n",
       "      <td>b22</td>\n",
       "      <td>7</td>\n",
       "    </tr>\n",
       "    <tr>\n",
       "      <th>7</th>\n",
       "      <td>b</td>\n",
       "      <td>b3</td>\n",
       "      <td>b34</td>\n",
       "      <td>8</td>\n",
       "    </tr>\n",
       "  </tbody>\n",
       "</table>\n",
       "</div>"
      ],
      "text/plain": [
       "  l1  l2   l3  val\n",
       "0  a  a1  a11    1\n",
       "1  a  a1  a12    2\n",
       "2  a  a2  a21    3\n",
       "3  a  a2  a22    4\n",
       "4  b  b1  b11    5\n",
       "5  b  b1  b12    6\n",
       "6  b  b2  b22    7\n",
       "7  b  b3  b34    8"
      ]
     },
     "execution_count": 2,
     "metadata": {},
     "output_type": "execute_result"
    }
   ],
   "source": [
    "df = pd.read_json('{\"l1\":{\"0\":\"a\",\"1\":\"a\",\"2\":\"a\",\"3\":\"a\",\"4\":\"b\",\"5\":\"b\",\"6\":\"b\",\"7\":\"b\"},\"l2\":{\"0\":\"a1\",\"1\":\"a1\",\"2\":\"a2\",\"3\":\"a2\",\"4\":\"b1\",\"5\":\"b1\",\"6\":\"b2\",\"7\":\"b3\"},\"l3\":{\"0\":\"a11\",\"1\":\"a12\",\"2\":\"a21\",\"3\":\"a22\",\"4\":\"b11\",\"5\":\"b12\",\"6\":\"b22\",\"7\":\"b34\"},\"val\":{\"0\":1,\"1\":2,\"2\":3,\"3\":4,\"4\":5,\"5\":6,\"6\":7,\"7\":8}}')\n",
    "df"
   ]
  },
  {
   "cell_type": "code",
   "execution_count": 3,
   "metadata": {
    "collapsed": true
   },
   "outputs": [],
   "source": [
    "d = {\"name\": \"root\",\n",
    "\"children\": []}"
   ]
  },
  {
   "cell_type": "code",
   "execution_count": 107,
   "metadata": {
    "collapsed": false
   },
   "outputs": [],
   "source": [
    "def find_element(children_list,name):\n",
    "    \"\"\"\n",
    "    Find element in children list\n",
    "    if exists or return none\n",
    "    \"\"\"\n",
    "    for i in children_list:\n",
    "        if i[\"name\"] == name:\n",
    "            return i\n",
    "    #If not found return None\n",
    "    return None\n",
    "\n",
    "def add_node(levels,row, value_field, nest):\n",
    "    \"\"\"\n",
    "    The path is a list.  Each element is a name that corresponds \n",
    "    to a level in the final nested dictionary.  \n",
    "    \"\"\"\n",
    "\n",
    "    #Get first name from level\n",
    "    this_level = levels.pop(0)\n",
    "    this_name = row[this_level[\"name\"]]\n",
    "    \n",
    "    level_properties = this_level[\"properties\"]\n",
    "    \n",
    "    #Does the element exist already?\n",
    "    element = find_element(nest[\"children\"], this_name)\n",
    "\n",
    "    #If the element exists, we can use it, otherwise we need to create a new one\n",
    "    if element:\n",
    "\n",
    "\n",
    "        if len(levels)>0:\n",
    "            add_node(levels, row, value_field, element)\n",
    "        \n",
    "    #Else it does not exist so create it and return its children\n",
    "    else:\n",
    "        new_child ={\"name\":this_name}\n",
    "        for prop, rowkey in level_properties.iteritems():\n",
    "            new_child[prop] = row[rowkey]\n",
    "        \n",
    "        if len(levels) == 0:\n",
    "\n",
    "            new_child[\"value\"] = row[value_field]\n",
    "            nest[\"children\"].append(new_child)\n",
    "        else:\n",
    "            #Add new element\n",
    "\n",
    "            new_child[\"children\"] = []\n",
    "            nest[\"children\"].append(new_child)\n",
    "            \n",
    "            #Get added element \n",
    "            element = nest[\"children\"][-1]\n",
    "            \n",
    "            #Still elements of path left so recurse\n",
    "            add_node(levels, row, value_field, element)\n",
    "    "
   ]
  },
  {
   "cell_type": "code",
   "execution_count": 111,
   "metadata": {
    "collapsed": false
   },
   "outputs": [],
   "source": [
    "d_all = {\"name\": \"root\",\n",
    "         \"desc\": \"*\",\n",
    "\"children\": []}\n",
    "\n",
    "\n",
    "\n",
    "my_levels = [{\"name\": \"code1\",\n",
    "           \"properties\" : {\"desc\":\"desc1\"}},\n",
    "         {\"name\": \"code2\",\n",
    "           \"properties\" : {\"desc\":\"desc2\"}},\n",
    "         {\"name\": \"code4\",\n",
    "           \"properties\" : {\"desc\":\"desc4\"}},\n",
    "         {\"name\": \"code6\",\n",
    "           \"properties\" : {\"desc\":\"desc6\"}},\n",
    "         {\"name\": \"code8\",\n",
    "           \"properties\" : {\"desc\":\"desc8\"}}]\n",
    "           \n",
    "for row in df_all.iterrows():\n",
    "    r = row[1]\n",
    "    value_field = \"quantity\"\n",
    "    levels_info = [i for i in my_levels]\n",
    "    add_node(levels_info, r, value_field,d_all)"
   ]
  },
  {
   "cell_type": "code",
   "execution_count": 109,
   "metadata": {
    "collapsed": false
   },
   "outputs": [
    {
     "name": "stdout",
     "output_type": "stream",
     "text": [
      "{\n",
      "  \"children\": [\n",
      "    {\n",
      "      \"children\": [\n",
      "        {\n",
      "          \"children\": [\n",
      "            {\n",
      "              \"children\": [\n",
      "                {\n",
      "                  \"children\": [\n",
      "                    {\n",
      "                      \"name\": \"01012100\", \n",
      "                      \"value\": 45592174, \n",
      "                      \"desc\": \"Pure-bred breeding horses\"\n",
      "                    }\n",
      "                  ], \n",
      "                  \"name\": \"010121\", \n",
      "                  \"desc\": \"Pure-bred breeding horses\"\n",
      "                }, \n",
      "                {\n",
      "                  \"children\": [\n",
      "                    {\n",
      "                      \"name\": \"01012990\", \n",
      "                      \"value\": 2498001, \n",
      "                      \"desc\": \"Live horses (excl. for slaughter, pure-bred for breeding)\"\n",
      "                    }\n",
      "                  ], \n",
      "                  \"name\": \"010129\", \n",
      "                  \"desc\": \"Live horses (excl. pure-bred for breeding)\"\n",
      "                }\n",
      "              ], \n",
      "              \"name\": \"0101\", \n",
      "              \"desc\": \"Live horses, asses, mules and hinnies\"\n",
      "            }, \n",
      "            {\n",
      "              \"children\": [\n",
      "                {\n",
      "                  \"children\": [\n",
      "                    {\n",
      "                      \"name\": \"01022110\", \n",
      "                      \"value\": 49329, \n",
      "                      \"desc\": \"Pure-bred breeding heifers \\\"female bovines that have never calved\\\"\"\n",
      "                    }, \n",
      "                    {\n",
      "                      \"name\": \"01022130\", \n",
      "                      \"value\": 2784, \n",
      "                      \"desc\": \"Pure-bred breeding cows (excl. heifers)\"\n",
      "                    }\n",
      "                  ], \n",
      "                  \"name\": \"010221\", \n",
      "                  \"desc\": \"Pure-bred cattle for breeding\"\n",
      "                }\n",
      "              ], \n",
      "              \"name\": \"0102\", \n",
      "              \"desc\": \"Live bovine animals\"\n",
      "            }, \n",
      "            {\n",
      "              \"children\": [\n",
      "                {\n",
      "                  \"children\": [\n",
      "                    {\n",
      "                      \"name\": \"01031000\", \n",
      "                      \"value\": 120277, \n",
      "                      \"desc\": \"Pure-bred breeding swine\"\n",
      "                    }\n",
      "                  ], \n",
      "                  \"name\": \"010310\", \n",
      "                  \"desc\": \"Pure-bred breeding swine\"\n",
      "                }\n",
      "              ], \n",
      "              \"name\": \"0103\", \n",
      "              \"desc\": \"Live swine\"\n",
      "            }\n",
      "          ], \n",
      "          \"name\": \"01\", \n",
      "          \"desc\": \"Live animals\"\n",
      "        }\n",
      "      ], \n",
      "      \"name\": \"1\", \n",
      "      \"desc\": \"Live Animals; Animal Products \"\n",
      "    }\n",
      "  ], \n",
      "  \"name\": \"root\", \n",
      "  \"desc\": \"*\"\n",
      "}\n"
     ]
    }
   ],
   "source": [
    "import json\n",
    "print json.dumps(d_all,  sort_keys=False, indent=2)"
   ]
  },
  {
   "cell_type": "code",
   "execution_count": 87,
   "metadata": {
    "collapsed": false
   },
   "outputs": [
    {
     "data": {
      "text/plain": [
       "8181"
      ]
     },
     "execution_count": 87,
     "metadata": {},
     "output_type": "execute_result"
    }
   ],
   "source": []
  },
  {
   "cell_type": "code",
   "execution_count": 110,
   "metadata": {
    "collapsed": false
   },
   "outputs": [],
   "source": [
    "import json\n",
    "with open('data2.txt', 'w') as outfile:\n",
    "    #json.dump(d_all, outfile, sort_keys=False, indent=2)\n",
    "    json.dump(d_all, outfile)\n"
   ]
  },
  {
   "cell_type": "code",
   "execution_count": 7,
   "metadata": {
    "collapsed": true
   },
   "outputs": [],
   "source": [
    "#Now create this for the real data\n",
    "import sqlite3\n",
    "conn = sqlite3.connect(r\"C:\\Users\\robin_000\\Desktop\\HMRCTradeDataParser\\pycharm\\trade_data.db\")\n"
   ]
  },
  {
   "cell_type": "code",
   "execution_count": 9,
   "metadata": {
    "collapsed": false
   },
   "outputs": [
    {
     "data": {
      "text/html": [
       "<div>\n",
       "<table border=\"1\" class=\"dataframe\">\n",
       "  <thead>\n",
       "    <tr style=\"text-align: right;\">\n",
       "      <th></th>\n",
       "      <th>code8</th>\n",
       "      <th>code6</th>\n",
       "      <th>code4</th>\n",
       "      <th>code2</th>\n",
       "      <th>code1</th>\n",
       "      <th>desc8</th>\n",
       "      <th>desc6</th>\n",
       "      <th>desc4</th>\n",
       "      <th>desc2</th>\n",
       "      <th>desc1</th>\n",
       "      <th>quantity</th>\n",
       "    </tr>\n",
       "  </thead>\n",
       "  <tbody>\n",
       "    <tr>\n",
       "      <th>0</th>\n",
       "      <td>01012100</td>\n",
       "      <td>010121</td>\n",
       "      <td>0101</td>\n",
       "      <td>01</td>\n",
       "      <td>1</td>\n",
       "      <td>Pure-bred breeding horses</td>\n",
       "      <td>Pure-bred breeding horses</td>\n",
       "      <td>Live horses, asses, mules and hinnies</td>\n",
       "      <td>Live animals</td>\n",
       "      <td>Live Animals; Animal Products</td>\n",
       "      <td>45592174</td>\n",
       "    </tr>\n",
       "    <tr>\n",
       "      <th>1</th>\n",
       "      <td>01012990</td>\n",
       "      <td>010129</td>\n",
       "      <td>0101</td>\n",
       "      <td>01</td>\n",
       "      <td>1</td>\n",
       "      <td>Live horses (excl. for slaughter, pure-bred fo...</td>\n",
       "      <td>Live horses (excl. pure-bred for breeding)</td>\n",
       "      <td>Live horses, asses, mules and hinnies</td>\n",
       "      <td>Live animals</td>\n",
       "      <td>Live Animals; Animal Products</td>\n",
       "      <td>2498001</td>\n",
       "    </tr>\n",
       "    <tr>\n",
       "      <th>2</th>\n",
       "      <td>01022110</td>\n",
       "      <td>010221</td>\n",
       "      <td>0102</td>\n",
       "      <td>01</td>\n",
       "      <td>1</td>\n",
       "      <td>Pure-bred breeding heifers \"female bovines tha...</td>\n",
       "      <td>Pure-bred cattle for breeding</td>\n",
       "      <td>Live bovine animals</td>\n",
       "      <td>Live animals</td>\n",
       "      <td>Live Animals; Animal Products</td>\n",
       "      <td>49329</td>\n",
       "    </tr>\n",
       "    <tr>\n",
       "      <th>3</th>\n",
       "      <td>01022130</td>\n",
       "      <td>010221</td>\n",
       "      <td>0102</td>\n",
       "      <td>01</td>\n",
       "      <td>1</td>\n",
       "      <td>Pure-bred breeding cows (excl. heifers)</td>\n",
       "      <td>Pure-bred cattle for breeding</td>\n",
       "      <td>Live bovine animals</td>\n",
       "      <td>Live animals</td>\n",
       "      <td>Live Animals; Animal Products</td>\n",
       "      <td>2784</td>\n",
       "    </tr>\n",
       "    <tr>\n",
       "      <th>4</th>\n",
       "      <td>01031000</td>\n",
       "      <td>010310</td>\n",
       "      <td>0103</td>\n",
       "      <td>01</td>\n",
       "      <td>1</td>\n",
       "      <td>Pure-bred breeding swine</td>\n",
       "      <td>Pure-bred breeding swine</td>\n",
       "      <td>Live swine</td>\n",
       "      <td>Live animals</td>\n",
       "      <td>Live Animals; Animal Products</td>\n",
       "      <td>120277</td>\n",
       "    </tr>\n",
       "  </tbody>\n",
       "</table>\n",
       "</div>"
      ],
      "text/plain": [
       "      code8   code6 code4 code2 code1  \\\n",
       "0  01012100  010121  0101    01     1   \n",
       "1  01012990  010129  0101    01     1   \n",
       "2  01022110  010221  0102    01     1   \n",
       "3  01022130  010221  0102    01     1   \n",
       "4  01031000  010310  0103    01     1   \n",
       "\n",
       "                                               desc8  \\\n",
       "0                          Pure-bred breeding horses   \n",
       "1  Live horses (excl. for slaughter, pure-bred fo...   \n",
       "2  Pure-bred breeding heifers \"female bovines tha...   \n",
       "3            Pure-bred breeding cows (excl. heifers)   \n",
       "4                           Pure-bred breeding swine   \n",
       "\n",
       "                                        desc6  \\\n",
       "0                   Pure-bred breeding horses   \n",
       "1  Live horses (excl. pure-bred for breeding)   \n",
       "2               Pure-bred cattle for breeding   \n",
       "3               Pure-bred cattle for breeding   \n",
       "4                    Pure-bred breeding swine   \n",
       "\n",
       "                                   desc4         desc2  \\\n",
       "0  Live horses, asses, mules and hinnies  Live animals   \n",
       "1  Live horses, asses, mules and hinnies  Live animals   \n",
       "2                    Live bovine animals  Live animals   \n",
       "3                    Live bovine animals  Live animals   \n",
       "4                             Live swine  Live animals   \n",
       "\n",
       "                            desc1  quantity  \n",
       "0  Live Animals; Animal Products   45592174  \n",
       "1  Live Animals; Animal Products    2498001  \n",
       "2  Live Animals; Animal Products      49329  \n",
       "3  Live Animals; Animal Products       2784  \n",
       "4  Live Animals; Animal Products     120277  "
      ]
     },
     "execution_count": 9,
     "metadata": {},
     "output_type": "execute_result"
    }
   ],
   "source": [
    "sql = \"\"\"\n",
    "select \n",
    "code8,\n",
    "code6,\n",
    "code4,\n",
    "code2,\n",
    "l1.code as code1,\n",
    "mk_commodity_alpha_all as desc8,\n",
    "l6.desc as desc6, \n",
    "l4.desc as desc4, \n",
    "l2.desc as desc2, \n",
    "l1.desc as desc1,\n",
    "quantity from \n",
    "\n",
    "(select product_code as code8, \n",
    "substr(product_code,1,6) as code6,\n",
    "substr(product_code,1,4) as code4,\n",
    "substr(product_code,1,2) as code2,\n",
    "\n",
    "sum(quantity) as quantity\n",
    "from der_imports_country_products_port_month_8\n",
    "where year = 2014\n",
    "group by product_code) as s\n",
    "\n",
    "left join eightdigitcodes as l8\n",
    "on s.code8 = l8.mk_comcode8\n",
    "\n",
    "left join lookup_codes_6 as l6\n",
    "on s.code6 = l6.code\n",
    "\n",
    "left join lookup_codes_4 as l4\n",
    "on s.code4 = l4.code\n",
    "\n",
    "left join lookup_codes_2 as l2\n",
    "on s.code2 = l2.code\n",
    "\n",
    "left join lookup_codes_1 as l1\n",
    "on s.code2 = l1.code_2\n",
    "\"\"\"\n",
    "\n",
    "df_all = pd.read_sql(sql, conn)\n",
    "df_all.head()"
   ]
  },
  {
   "cell_type": "code",
   "execution_count": 10,
   "metadata": {
    "collapsed": true
   },
   "outputs": [],
   "source": [
    "df = df_all.head().copy()"
   ]
  },
  {
   "cell_type": "code",
   "execution_count": 112,
   "metadata": {
    "collapsed": false
   },
   "outputs": [],
   "source": [
    "import json\n",
    "with open('data.txt', 'w') as outfile:\n",
    "    #json.dump(d_all, outfile, sort_keys=False, indent=2)\n",
    "    json.dump(d_all, outfile)\n"
   ]
  },
  {
   "cell_type": "code",
   "execution_count": 13,
   "metadata": {
    "collapsed": false
   },
   "outputs": [
    {
     "name": "stdout",
     "output_type": "stream",
     "text": [
      "a\n",
      "1\n"
     ]
    }
   ],
   "source": [
    "md = {\"a\":1}\n",
    "for k, v in md.iteritems():\n",
    "    print k\n",
    "    print v"
   ]
  },
  {
   "cell_type": "code",
   "execution_count": 63,
   "metadata": {
    "collapsed": false
   },
   "outputs": [],
   "source": [
    "import copy"
   ]
  },
  {
   "cell_type": "code",
   "execution_count": 65,
   "metadata": {
    "collapsed": false
   },
   "outputs": [
    {
     "data": {
      "text/plain": [
       "{'a': 1}"
      ]
     },
     "execution_count": 65,
     "metadata": {},
     "output_type": "execute_result"
    }
   ],
   "source": [
    "md.copy()"
   ]
  },
  {
   "cell_type": "code",
   "execution_count": 66,
   "metadata": {
    "collapsed": true
   },
   "outputs": [],
   "source": [
    "a= [1,2,3]"
   ]
  },
  {
   "cell_type": "code",
   "execution_count": 67,
   "metadata": {
    "collapsed": true
   },
   "outputs": [],
   "source": [
    "b = [i for i in a]"
   ]
  },
  {
   "cell_type": "code",
   "execution_count": 69,
   "metadata": {
    "collapsed": false
   },
   "outputs": [
    {
     "data": {
      "text/plain": [
       "3"
      ]
     },
     "execution_count": 69,
     "metadata": {},
     "output_type": "execute_result"
    }
   ],
   "source": [
    "b.pop()"
   ]
  },
  {
   "cell_type": "code",
   "execution_count": 70,
   "metadata": {
    "collapsed": false
   },
   "outputs": [
    {
     "data": {
      "text/plain": [
       "[1, 2]"
      ]
     },
     "execution_count": 70,
     "metadata": {},
     "output_type": "execute_result"
    }
   ],
   "source": [
    "b"
   ]
  },
  {
   "cell_type": "code",
   "execution_count": 71,
   "metadata": {
    "collapsed": false
   },
   "outputs": [
    {
     "data": {
      "text/plain": [
       "[1, 2, 3]"
      ]
     },
     "execution_count": 71,
     "metadata": {},
     "output_type": "execute_result"
    }
   ],
   "source": [
    "a"
   ]
  },
  {
   "cell_type": "code",
   "execution_count": null,
   "metadata": {
    "collapsed": true
   },
   "outputs": [],
   "source": []
  }
 ],
 "metadata": {
  "kernelspec": {
   "display_name": "Python 2",
   "language": "python",
   "name": "python2"
  },
  "language_info": {
   "codemirror_mode": {
    "name": "ipython",
    "version": 2
   },
   "file_extension": ".py",
   "mimetype": "text/x-python",
   "name": "python",
   "nbconvert_exporter": "python",
   "pygments_lexer": "ipython2",
   "version": "2.7.10"
  }
 },
 "nbformat": 4,
 "nbformat_minor": 0
}
