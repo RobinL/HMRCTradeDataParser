{
 "cells": [
  {
   "cell_type": "code",
   "execution_count": 14,
   "metadata": {
    "collapsed": true
   },
   "outputs": [],
   "source": [
    "import pandas as pd\n",
    "import codecs"
   ]
  },
  {
   "cell_type": "code",
   "execution_count": 15,
   "metadata": {
    "collapsed": false
   },
   "outputs": [],
   "source": [
    "with codecs.open(\"pycharm/data/SIAI111504\", encoding=\"windows-1252\") as fh:\n",
    "    lines = fh.readlines()\n",
    "    header_record = lines[0]\n",
    "    middle_records =  lines[1:-1]\n",
    "    tail_record = lines[-1]"
   ]
  },
  {
   "cell_type": "code",
   "execution_count": 16,
   "metadata": {
    "collapsed": false
   },
   "outputs": [],
   "source": [
    "def get_fields_df(df, column_name = \"Item Name\"):\n",
    "    df = df[~df[column_name].str.contains(\"DELIMITER\")]\n",
    "    df = df[[\"From\",\"To\",column_name]]\n",
    "    return df"
   ]
  },
  {
   "cell_type": "code",
   "execution_count": 17,
   "metadata": {
    "collapsed": false
   },
   "outputs": [],
   "source": [
    "header_record_specs = pd.read_csv(\"pycharm/specs/importers_header_record_specs.csv\")\n",
    "header_record_specs = get_fields_df(header_record_specs) "
   ]
  },
  {
   "cell_type": "code",
   "execution_count": 18,
   "metadata": {
    "collapsed": true
   },
   "outputs": [],
   "source": [
    "header_record\n",
    "header_record_dict = {}\n",
    "for row in header_record_specs.iterrows():\n",
    "    r = row[1]\n",
    "    key = r[\"Item Name\"]\n",
    "    value = header_record[r[\"From\"]-1:r[\"To\"]].strip()\n",
    "    header_record_dict[key] = value"
   ]
  },
  {
   "cell_type": "code",
   "execution_count": 19,
   "metadata": {
    "collapsed": false
   },
   "outputs": [
    {
     "data": {
      "text/html": [
       "<div style=\"max-height:1000px;max-width:1500px;overflow:auto;\">\n",
       "<table border=\"1\" class=\"dataframe\">\n",
       "  <thead>\n",
       "    <tr style=\"text-align: right;\">\n",
       "      <th></th>\n",
       "      <th>IA-RECORD-TYPE</th>\n",
       "      <th>IA-RUNNO</th>\n",
       "      <th>IA-YEAR</th>\n",
       "    </tr>\n",
       "  </thead>\n",
       "  <tbody>\n",
       "    <tr>\n",
       "      <th>0</th>\n",
       "      <td> 00</td>\n",
       "      <td> 04200</td>\n",
       "      <td> 2015</td>\n",
       "    </tr>\n",
       "  </tbody>\n",
       "</table>\n",
       "</div>"
      ],
      "text/plain": [
       "  IA-RECORD-TYPE IA-RUNNO IA-YEAR\n",
       "0             00    04200    2015"
      ]
     },
     "execution_count": 19,
     "metadata": {},
     "output_type": "execute_result"
    }
   ],
   "source": [
    "pd.DataFrame([header_record_dict])"
   ]
  },
  {
   "cell_type": "code",
   "execution_count": null,
   "metadata": {
    "collapsed": true
   },
   "outputs": [],
   "source": []
  },
  {
   "cell_type": "code",
   "execution_count": 22,
   "metadata": {
    "collapsed": false
   },
   "outputs": [],
   "source": [
    "middle_records_df = pd.DataFrame(middle_records,columns=[\"all\"])\n",
    "middle_record_specs = pd.read_csv(\"pycharm/specs/importers_middle_record_specs.csv\")\n",
    "middle_record_specs_dict = middle_record_specs.to_dict(orient=\"records\")\n",
    "\n",
    "for col in middle_record_specs_dict:\n",
    "    middle_records_df[col[\"Item Name\"]] = middle_records_df[\"all\"].str.slice(col[\"From\"]-1,col[\"To\"])\n",
    "middle_records_df = middle_records_df.drop([\"all\"],axis=1)"
   ]
  },
  {
   "cell_type": "code",
   "execution_count": 23,
   "metadata": {
    "collapsed": false
   },
   "outputs": [],
   "source": [
    "middle_records_df.columns = [c.lower().replace(\"-\",\"_\") for c in middle_records_df.columns]"
   ]
  },
  {
   "cell_type": "code",
   "execution_count": 25,
   "metadata": {
    "collapsed": false
   },
   "outputs": [
    {
     "data": {
      "text/html": [
       "<div style=\"max-height:1000px;max-width:1500px;overflow:auto;\">\n",
       "<table border=\"1\" class=\"dataframe\">\n",
       "  <thead>\n",
       "    <tr style=\"text-align: right;\">\n",
       "      <th></th>\n",
       "      <th>ia_record_type</th>\n",
       "      <th>ia_name</th>\n",
       "      <th>ia_addr_1</th>\n",
       "      <th>ia_addr_2</th>\n",
       "      <th>ia_addr_3</th>\n",
       "      <th>ia_addr_4</th>\n",
       "      <th>ia_addr_5</th>\n",
       "      <th>ia_pcode</th>\n",
       "      <th>ia_comcode_count</th>\n",
       "      <th>ia_comcode</th>\n",
       "    </tr>\n",
       "  </thead>\n",
       "  <tbody>\n",
       "    <tr>\n",
       "      <th>0</th>\n",
       "      <td> 01</td>\n",
       "      <td> UNITED STATES VISITING FORCES                 ...</td>\n",
       "      <td> USAFE-UK/A4                   </td>\n",
       "      <td> RAF MILDENHALL                </td>\n",
       "      <td> BURY ST EDMUNDS               </td>\n",
       "      <td> SUFFOLK                       </td>\n",
       "      <td>                               </td>\n",
       "      <td> IP28 8NG</td>\n",
       "      <td> 001</td>\n",
       "      <td>                   |40093200\\r\\n</td>\n",
       "    </tr>\n",
       "    <tr>\n",
       "      <th>1</th>\n",
       "      <td> 01</td>\n",
       "      <td> EMBASSY OF THE SULTANATE OF OMAN              ...</td>\n",
       "      <td> 104 PICCADILLY                </td>\n",
       "      <td>                               </td>\n",
       "      <td> LONDON                        </td>\n",
       "      <td>                               </td>\n",
       "      <td>                               </td>\n",
       "      <td> W1V 9FN </td>\n",
       "      <td> 001</td>\n",
       "      <td>                   |49019900\\r\\n</td>\n",
       "    </tr>\n",
       "    <tr>\n",
       "      <th>2</th>\n",
       "      <td> 01</td>\n",
       "      <td> TURKISH EMBASSY                               ...</td>\n",
       "      <td> 43 BELGRAVE SQUARE            </td>\n",
       "      <td>                               </td>\n",
       "      <td> LONDON                        </td>\n",
       "      <td>                               </td>\n",
       "      <td>                               </td>\n",
       "      <td> SW1X 8PA</td>\n",
       "      <td> 001</td>\n",
       "      <td>                   |49019900\\r\\n</td>\n",
       "    </tr>\n",
       "    <tr>\n",
       "      <th>3</th>\n",
       "      <td> 01</td>\n",
       "      <td> INTERNATIONAL MARITIME ORGANIZATION           ...</td>\n",
       "      <td> 4 ALBERT EMBANKMENT           </td>\n",
       "      <td>                               </td>\n",
       "      <td> LONDON                        </td>\n",
       "      <td>                               </td>\n",
       "      <td>                               </td>\n",
       "      <td> SE1 7SR </td>\n",
       "      <td> 002</td>\n",
       "      <td>          |49019900|84715000\\r\\n</td>\n",
       "    </tr>\n",
       "    <tr>\n",
       "      <th>4</th>\n",
       "      <td> 01</td>\n",
       "      <td> NORTH ATLANTIC TREATY ORGANISATION            ...</td>\n",
       "      <td> CINCHAN-CINCEASTLANT          </td>\n",
       "      <td>                               </td>\n",
       "      <td> NORTHWOOD                     </td>\n",
       "      <td> MIDDLESEX                     </td>\n",
       "      <td>                               </td>\n",
       "      <td> HA6 3HR </td>\n",
       "      <td> 003</td>\n",
       "      <td> |85437090|85441190|85442000\\r\\n</td>\n",
       "    </tr>\n",
       "  </tbody>\n",
       "</table>\n",
       "</div>"
      ],
      "text/plain": [
       "  ia_record_type                                            ia_name  \\\n",
       "0             01  UNITED STATES VISITING FORCES                 ...   \n",
       "1             01  EMBASSY OF THE SULTANATE OF OMAN              ...   \n",
       "2             01  TURKISH EMBASSY                               ...   \n",
       "3             01  INTERNATIONAL MARITIME ORGANIZATION           ...   \n",
       "4             01  NORTH ATLANTIC TREATY ORGANISATION            ...   \n",
       "\n",
       "                        ia_addr_1                       ia_addr_2  \\\n",
       "0  USAFE-UK/A4                     RAF MILDENHALL                   \n",
       "1  104 PICCADILLY                                                   \n",
       "2  43 BELGRAVE SQUARE                                               \n",
       "3  4 ALBERT EMBANKMENT                                              \n",
       "4  CINCHAN-CINCEASTLANT                                             \n",
       "\n",
       "                        ia_addr_3                       ia_addr_4  \\\n",
       "0  BURY ST EDMUNDS                 SUFFOLK                          \n",
       "1  LONDON                                                           \n",
       "2  LONDON                                                           \n",
       "3  LONDON                                                           \n",
       "4  NORTHWOOD                       MIDDLESEX                        \n",
       "\n",
       "                        ia_addr_5  ia_pcode ia_comcode_count  \\\n",
       "0                                  IP28 8NG              001   \n",
       "1                                  W1V 9FN               001   \n",
       "2                                  SW1X 8PA              001   \n",
       "3                                  SE1 7SR               002   \n",
       "4                                  HA6 3HR               003   \n",
       "\n",
       "                        ia_comcode  \n",
       "0                    |40093200\\r\\n  \n",
       "1                    |49019900\\r\\n  \n",
       "2                    |49019900\\r\\n  \n",
       "3           |49019900|84715000\\r\\n  \n",
       "4  |85437090|85441190|85442000\\r\\n  "
      ]
     },
     "execution_count": 25,
     "metadata": {},
     "output_type": "execute_result"
    }
   ],
   "source": [
    "middle_records_df.head()"
   ]
  },
  {
   "cell_type": "code",
   "execution_count": 26,
   "metadata": {
    "collapsed": true
   },
   "outputs": [],
   "source": [
    "a = \"|39172190|39222000|39229000|39259010|39269097|69101000|73249000|73269098|76109010|76152000|76169910|83024900|85014080|85161011|85163300|94018000\""
   ]
  },
  {
   "cell_type": "code",
   "execution_count": 27,
   "metadata": {
    "collapsed": false
   },
   "outputs": [
    {
     "data": {
      "text/plain": [
       "['',\n",
       " '39172190',\n",
       " '39222000',\n",
       " '39229000',\n",
       " '39259010',\n",
       " '39269097',\n",
       " '69101000',\n",
       " '73249000',\n",
       " '73269098',\n",
       " '76109010',\n",
       " '76152000',\n",
       " '76169910',\n",
       " '83024900',\n",
       " '85014080',\n",
       " '85161011',\n",
       " '85163300',\n",
       " '94018000']"
      ]
     },
     "execution_count": 27,
     "metadata": {},
     "output_type": "execute_result"
    }
   ],
   "source": [
    "a.split(\"|\")"
   ]
  },
  {
   "cell_type": "code",
   "execution_count": null,
   "metadata": {
    "collapsed": true
   },
   "outputs": [],
   "source": []
  }
 ],
 "metadata": {
  "kernelspec": {
   "display_name": "Python 2",
   "language": "python",
   "name": "python2"
  },
  "language_info": {
   "codemirror_mode": {
    "name": "ipython",
    "version": 2
   },
   "file_extension": ".py",
   "mimetype": "text/x-python",
   "name": "python",
   "nbconvert_exporter": "python",
   "pygments_lexer": "ipython2",
   "version": "2.7.6"
  }
 },
 "nbformat": 4,
 "nbformat_minor": 0
}
